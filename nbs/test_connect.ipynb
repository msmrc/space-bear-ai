{
 "cells": [
  {
   "cell_type": "code",
   "execution_count": 1,
   "metadata": {
    "collapsed": true,
    "pycharm": {
     "name": "#%%\n"
    }
   },
   "outputs": [],
   "source": [
    "import requests\n",
    "import string\n",
    "\n",
    "from utils.get_data import get_user, get_project, get_all_projects, get_all_users\n",
    "from utils.metric_utils import intersection_metric, iou_metric\n",
    "from utils.similarity_utils import cosine_similarity\n",
    "from utils.text_utils import embedd_representation, get_user_roles_desc, get_user_text_desc, get_user_skill_desc, get_project_text_desc\n",
    "from tqdm import tqdm\n",
    "import pickle\n",
    "import pandas as pd\n",
    "import numpy as np\n",
    "from scipy.spatial import distance\n",
    "from typing import Dict, Any, List"
   ]
  },
  {
   "cell_type": "code",
   "execution_count": 2,
   "outputs": [
    {
     "data": {
      "text/plain": "{'_id': '1',\n 'type': 'hackathon',\n 'projectName': 'Star Bear',\n 'projectDescription': 'Проект для поиска единомышленников и обмена идеями',\n 'isPublished': True,\n 'projectTags': ['social', 'modern ui'],\n 'projectOwnerId': '1',\n 'existTeam': [{'userId': '1', 'category': 'Teamlead', 'skills': ['Excel']}],\n 'lookingForTeam': [{'category': 'Frontend', 'skills': ['Angular']},\n  {'category': 'Backend', 'skills': ['C#', 'Node js', 'Nest js']},\n  {'category': 'Frontend', 'skills': ['React']}],\n 'projectCostByAdmin': [{'rate': '', 'solution': '', 'publishDate': ''}],\n 'isInnovated': False,\n 'innovator': {'projectLink': '',\n  'presentationFileId': '',\n  'supportExperience': ['accelerator', 'grants']},\n 'hackathon': {'targetTask': {'id': '1'}},\n 'novatorOfMoscow': {'inn': '',\n  'registration': '',\n  'supportExperience': [''],\n  'nomination': 'Проект будущего',\n  'direction': 'Экология и охрана',\n  'revenue': '',\n  'projectReadinessStage': 'mvp',\n  'projectLink': '',\n  'presentationFileId': '',\n  'businessPlanFileId': '',\n  'copyOfSecurityDocFileId': '',\n  'confirmationOfProjectProgress': ['', ''],\n  'additional': {'proofs': [{'fileId': ''}],\n   'characteristics': [{'key': '', 'value': ''}]}},\n 'views': 10,\n 'rate': [{'userId': '1', 'count': 10}, {'userId': '2', 'count': -10}],\n 'comments': [{'userId': '1', 'comment': 'Невероятно!'}]}"
     },
     "execution_count": 2,
     "metadata": {},
     "output_type": "execute_result"
    }
   ],
   "source": [
    "get_project(1)"
   ],
   "metadata": {
    "collapsed": false,
    "pycharm": {
     "name": "#%%\n"
    }
   }
  },
  {
   "cell_type": "code",
   "execution_count": 123,
   "outputs": [
    {
     "data": {
      "text/plain": "[{'_id': '1',\n  'type': 'hackathon',\n  'projectName': 'Star Bear',\n  'projectDescription': 'Проект для поиска единомышленников и обмена идеями',\n  'isPublished': True,\n  'projectTags': ['social', 'modern ui'],\n  'projectOwnerId': '1',\n  'existTeam': [{'userId': '1', 'category': 'Teamlead', 'skills': ['Excel']}],\n  'lookingForTeam': [{'category': 'Frontend', 'skills': ['Angular']},\n   {'category': 'Backend', 'skills': ['C#', 'Node js', 'Nest js']},\n   {'category': 'Frontend', 'skills': ['React']}],\n  'projectCostByAdmin': [{'rate': '', 'solution': '', 'publishDate': ''}],\n  'isInnovated': False,\n  'innovator': {'projectLink': '',\n   'presentationFileId': '',\n   'supportExperience': ['accelerator', 'grants']},\n  'hackathon': {'targetTask': {'id': '1'}},\n  'novatorOfMoscow': {'inn': '',\n   'registration': '',\n   'supportExperience': [''],\n   'nomination': 'Проект будущего',\n   'direction': 'Экология и охрана',\n   'revenue': '',\n   'projectReadinessStage': 'mvp',\n   'projectLink': '',\n   'presentationFileId': '',\n   'businessPlanFileId': '',\n   'copyOfSecurityDocFileId': '',\n   'confirmationOfProjectProgress': ['', ''],\n   'additional': {'proofs': [{'fileId': ''}],\n    'characteristics': [{'key': '', 'value': ''}]}},\n  'views': 10,\n  'rate': [{'userId': '1', 'count': 10}, {'userId': '2', 'count': -10}],\n  'comments': [{'userId': '1', 'comment': 'Невероятно!'}]},\n {'_id': '2',\n  'type': 'novatorOfMoscow',\n  'projectName': 'NovaMoscow',\n  'projectDescription': 'Высокоэффективные композиционные материалы на основе аэрогелей для создания инновационной среды города будущего',\n  'isPublished': True,\n  'projectTags': ['social', 'modern ui'],\n  'projectOwnerId': '2',\n  'existTeam': [{'userId': '2', 'category': 'Frontend', 'skills': ['Angular']},\n   {'userId': '3', 'category': 'Backend', 'skills': ['C#', 'C++']}],\n  'lookingForTeam': [{'category': 'Frontend', 'skills': ['Angular']},\n   {'category': 'Backend', 'skills': ['C#', 'C++']}],\n  'projectCostByAdmin': [{'rate': '', 'solution': '', 'publishDate': ''}],\n  'isInnovated': True,\n  'innovator': {'projectLink': '',\n   'presentationFileId': '',\n   'supportExperience': ['accelerator', 'grants']},\n  'hackathon': {'targetTask': {'id': '1'}},\n  'novatorOfMoscow': {'inn': '46363463436',\n   'registration': 'Москва',\n   'supportExperience': ['accelerator'],\n   'nomination': 'Проект будущего',\n   'direction': 'Экология и охрана',\n   'revenue': '510000',\n   'projectReadinessStage': 'mvp',\n   'projectLink': '',\n   'presentationFileId': '',\n   'businessPlanFileId': '',\n   'copyOfSecurityDocFileId': '',\n   'confirmationOfProjectProgress': ['', ''],\n   'additional': {'proofs': [{'fileId': ''}],\n    'characteristics': [{'key': '', 'value': ''}]}},\n  'views': 50,\n  'rate': [{'userId': '1', 'count': 10},\n   {'userId': '2', 'count': -10},\n   {'userId': '3', 'count': -10},\n   {'userId': '4', 'count': -10},\n   {'userId': '5', 'count': -10}],\n  'comments': [{'userId': '1', 'comment': 'Мда, выглядит не очень'}]},\n {'_id': '3',\n  'type': 'innovator',\n  'projectName': 'Innovator ->',\n  'projectDescription': 'Облачный сервис мониторинга и управления бортовыми системами транспортных средств',\n  'isPublished': True,\n  'projectTags': ['ai', 'робототехника'],\n  'projectOwnerId': '2',\n  'existTeam': [{'userId': '2',\n    'category': 'Frontend',\n    'skills': ['Angular']}],\n  'lookingForTeam': [{'category': 'Backend', 'skills': ['C++']},\n   {'category': 'Backend', 'skills': ['C#']}],\n  'projectCostByAdmin': [{'rate': '', 'solution': '', 'publishDate': ''}],\n  'isInnovated': True,\n  'innovator': {'projectLink': '',\n   'presentationFileId': '',\n   'supportExperience': ['accelerator', 'grants']},\n  'hackathon': {'targetTask': {'id': '1'}},\n  'novatorOfMoscow': {'inn': '46363463436',\n   'registration': 'Москва',\n   'supportExperience': ['accelerator'],\n   'nomination': 'Проект будущего',\n   'direction': 'Экология и охрана',\n   'revenue': '510000',\n   'projectReadinessStage': 'mvp',\n   'projectLink': '',\n   'presentationFileId': '',\n   'businessPlanFileId': '',\n   'copyOfSecurityDocFileId': '',\n   'confirmationOfProjectProgress': ['', ''],\n   'additional': {'proofs': [{'fileId': ''}],\n    'characteristics': [{'key': '', 'value': ''}]}},\n  'views': 50,\n  'rate': [{'userId': '1', 'count': 10},\n   {'userId': '2', 'count': -10},\n   {'userId': '3', 'count': -10},\n   {'userId': '4', 'count': -10},\n   {'userId': '5', 'count': -10}],\n  'comments': [{'userId': '1', 'comment': 'Мда, выглядит не очень'}]},\n {'_id': '3',\n  'type': 'innovator',\n  'projectName': 'Новое освещение',\n  'projectDescription': 'Новые люминесцентные материалы для биологически безопасного энергоэффективного освещения',\n  'isPublished': True,\n  'projectTags': ['ai', 'biotech'],\n  'projectOwnerId': '2',\n  'existTeam': [{'userId': '2',\n    'category': 'Frontend',\n    'skills': ['Angular']}],\n  'lookingForTeam': [{'category': 'Backend', 'skills': ['C++']},\n   {'category': 'Backend', 'skills': ['C#']}],\n  'projectCostByAdmin': [{'rate': '', 'solution': '', 'publishDate': ''}],\n  'isInnovated': True,\n  'innovator': {'projectLink': '',\n   'presentationFileId': '',\n   'supportExperience': ['accelerator', 'grants']},\n  'hackathon': {'targetTask': {'id': '1'}},\n  'novatorOfMoscow': {'inn': '46363463436',\n   'registration': 'Москва',\n   'supportExperience': ['accelerator'],\n   'nomination': 'Проект будущего',\n   'direction': 'Экология и охрана',\n   'revenue': '510000',\n   'projectReadinessStage': 'mvp',\n   'projectLink': '',\n   'presentationFileId': '',\n   'businessPlanFileId': '',\n   'copyOfSecurityDocFileId': '',\n   'confirmationOfProjectProgress': ['', ''],\n   'additional': {'proofs': [{'fileId': ''}],\n    'characteristics': [{'key': '', 'value': ''}]}},\n  'views': 120,\n  'rate': [{'userId': '1', 'count': 10},\n   {'userId': '2', 'count': -10},\n   {'userId': '3', 'count': -10},\n   {'userId': '4', 'count': 10},\n   {'userId': '5', 'count': 10},\n   {'userId': '6', 'count': 10},\n   {'userId': '7', 'count': 10},\n   {'userId': '8', 'count': 10},\n   {'userId': '9', 'count': 10},\n   {'userId': '10', 'count': -10}],\n  'comments': [{'userId': '1', 'comment': 'Мда, выглядит не очень'}]}]"
     },
     "execution_count": 123,
     "metadata": {},
     "output_type": "execute_result"
    }
   ],
   "source": [
    "get_all_projects()"
   ],
   "metadata": {
    "collapsed": false,
    "pycharm": {
     "name": "#%%\n"
    }
   }
  },
  {
   "cell_type": "code",
   "execution_count": 2,
   "outputs": [],
   "source": [
    "test_parquet = pd.read_parquet('/Users/andrey.krotkikh/Documents/embedds.parquet')"
   ],
   "metadata": {
    "collapsed": false,
    "pycharm": {
     "name": "#%%\n"
    }
   }
  },
  {
   "cell_type": "code",
   "execution_count": 3,
   "outputs": [
    {
     "data": {
      "text/plain": "array([ 0.02952424,  0.03973465,  0.51920575,  0.2742361 , -0.56496364,\n       -0.05899953,  0.15973805,  0.36940977, -0.28356385,  0.0317634 ,\n        0.0545611 , -0.4064595 , -0.30602503,  0.1400957 , -0.42900386,\n       -0.26042384, -0.35757917,  0.2937732 ,  0.6116437 , -0.30295795,\n        0.02860113, -0.09477986,  0.12079441,  0.5180067 , -0.20671937,\n       -0.1374913 , -0.19656545,  0.11080171,  0.00718931, -0.26903504,\n        0.16081983, -0.15745698,  0.16667393, -0.38068062, -0.07165289,\n        0.09804589,  0.06312373, -0.15158296,  0.19063157,  0.6958586 ,\n        0.03368482,  0.130759  ,  0.17316923, -0.32077733, -0.0483497 ,\n        0.23173176, -0.32908714, -0.07346074, -0.39619485,  0.19769314],\n      dtype=float32)"
     },
     "execution_count": 3,
     "metadata": {},
     "output_type": "execute_result"
    }
   ],
   "source": [
    "test_parquet.loc['В'].values"
   ],
   "metadata": {
    "collapsed": false,
    "pycharm": {
     "name": "#%%\n"
    }
   }
  },
  {
   "cell_type": "code",
   "execution_count": 4,
   "outputs": [
    {
     "data": {
      "text/plain": "             0         1         2         3         4         5         6  \\\n,     0.165771 -0.517288  0.419655 -0.051957 -0.087263 -0.021959  0.089717   \n.     0.383446  0.011442  0.860179  0.129129 -0.266771 -0.042965  0.268558   \nи    -0.010855 -0.695681  0.137943  0.078002 -0.112360  0.173395  0.444733   \nв     0.072291 -0.373457  0.123495  0.219691 -0.415449  0.054333 -0.016865   \n</s>  0.804123 -0.131928  1.406710  0.330419 -0.397396 -0.131128  0.353531   \n\n             7         8         9  ...        40        41        42  \\\n,     0.167934 -0.119870 -0.020433  ... -0.009044 -0.003489  0.187495   \n.     0.321658 -0.243419 -0.057822  ...  0.044906  0.143004  0.122937   \nи     0.114993  0.025454 -0.001267  ... -0.142463 -0.062530  0.015674   \nв     0.366148 -0.209039  0.168200  ... -0.066749  0.003132  0.224285   \n</s>  0.324826 -0.467777 -0.049522  ...  0.156702  0.000512  0.320597   \n\n            43        44        45        46        47        48        49  \n,    -0.144960 -0.020137  0.395344 -0.233079  0.025705 -0.408518 -0.224592  \n.    -0.475062  0.100880  0.235484 -0.244221 -0.004340 -0.451731  0.027196  \nи    -0.106922 -0.168451  0.215671 -0.326548  0.115889 -0.438935 -0.157844  \nв    -0.298141 -0.052664  0.423817 -0.368453 -0.214593 -0.278668  0.242669  \n</s> -1.087240 -0.610243  0.274437 -0.429224  0.089688 -0.982359  0.325405  \n\n[5 rows x 50 columns]",
      "text/html": "<div>\n<style scoped>\n    .dataframe tbody tr th:only-of-type {\n        vertical-align: middle;\n    }\n\n    .dataframe tbody tr th {\n        vertical-align: top;\n    }\n\n    .dataframe thead th {\n        text-align: right;\n    }\n</style>\n<table border=\"1\" class=\"dataframe\">\n  <thead>\n    <tr style=\"text-align: right;\">\n      <th></th>\n      <th>0</th>\n      <th>1</th>\n      <th>2</th>\n      <th>3</th>\n      <th>4</th>\n      <th>5</th>\n      <th>6</th>\n      <th>7</th>\n      <th>8</th>\n      <th>9</th>\n      <th>...</th>\n      <th>40</th>\n      <th>41</th>\n      <th>42</th>\n      <th>43</th>\n      <th>44</th>\n      <th>45</th>\n      <th>46</th>\n      <th>47</th>\n      <th>48</th>\n      <th>49</th>\n    </tr>\n  </thead>\n  <tbody>\n    <tr>\n      <th>,</th>\n      <td>0.165771</td>\n      <td>-0.517288</td>\n      <td>0.419655</td>\n      <td>-0.051957</td>\n      <td>-0.087263</td>\n      <td>-0.021959</td>\n      <td>0.089717</td>\n      <td>0.167934</td>\n      <td>-0.119870</td>\n      <td>-0.020433</td>\n      <td>...</td>\n      <td>-0.009044</td>\n      <td>-0.003489</td>\n      <td>0.187495</td>\n      <td>-0.144960</td>\n      <td>-0.020137</td>\n      <td>0.395344</td>\n      <td>-0.233079</td>\n      <td>0.025705</td>\n      <td>-0.408518</td>\n      <td>-0.224592</td>\n    </tr>\n    <tr>\n      <th>.</th>\n      <td>0.383446</td>\n      <td>0.011442</td>\n      <td>0.860179</td>\n      <td>0.129129</td>\n      <td>-0.266771</td>\n      <td>-0.042965</td>\n      <td>0.268558</td>\n      <td>0.321658</td>\n      <td>-0.243419</td>\n      <td>-0.057822</td>\n      <td>...</td>\n      <td>0.044906</td>\n      <td>0.143004</td>\n      <td>0.122937</td>\n      <td>-0.475062</td>\n      <td>0.100880</td>\n      <td>0.235484</td>\n      <td>-0.244221</td>\n      <td>-0.004340</td>\n      <td>-0.451731</td>\n      <td>0.027196</td>\n    </tr>\n    <tr>\n      <th>и</th>\n      <td>-0.010855</td>\n      <td>-0.695681</td>\n      <td>0.137943</td>\n      <td>0.078002</td>\n      <td>-0.112360</td>\n      <td>0.173395</td>\n      <td>0.444733</td>\n      <td>0.114993</td>\n      <td>0.025454</td>\n      <td>-0.001267</td>\n      <td>...</td>\n      <td>-0.142463</td>\n      <td>-0.062530</td>\n      <td>0.015674</td>\n      <td>-0.106922</td>\n      <td>-0.168451</td>\n      <td>0.215671</td>\n      <td>-0.326548</td>\n      <td>0.115889</td>\n      <td>-0.438935</td>\n      <td>-0.157844</td>\n    </tr>\n    <tr>\n      <th>в</th>\n      <td>0.072291</td>\n      <td>-0.373457</td>\n      <td>0.123495</td>\n      <td>0.219691</td>\n      <td>-0.415449</td>\n      <td>0.054333</td>\n      <td>-0.016865</td>\n      <td>0.366148</td>\n      <td>-0.209039</td>\n      <td>0.168200</td>\n      <td>...</td>\n      <td>-0.066749</td>\n      <td>0.003132</td>\n      <td>0.224285</td>\n      <td>-0.298141</td>\n      <td>-0.052664</td>\n      <td>0.423817</td>\n      <td>-0.368453</td>\n      <td>-0.214593</td>\n      <td>-0.278668</td>\n      <td>0.242669</td>\n    </tr>\n    <tr>\n      <th>&lt;/s&gt;</th>\n      <td>0.804123</td>\n      <td>-0.131928</td>\n      <td>1.406710</td>\n      <td>0.330419</td>\n      <td>-0.397396</td>\n      <td>-0.131128</td>\n      <td>0.353531</td>\n      <td>0.324826</td>\n      <td>-0.467777</td>\n      <td>-0.049522</td>\n      <td>...</td>\n      <td>0.156702</td>\n      <td>0.000512</td>\n      <td>0.320597</td>\n      <td>-1.087240</td>\n      <td>-0.610243</td>\n      <td>0.274437</td>\n      <td>-0.429224</td>\n      <td>0.089688</td>\n      <td>-0.982359</td>\n      <td>0.325405</td>\n    </tr>\n  </tbody>\n</table>\n<p>5 rows × 50 columns</p>\n</div>"
     },
     "execution_count": 4,
     "metadata": {},
     "output_type": "execute_result"
    }
   ],
   "source": [
    "test_parquet.head()"
   ],
   "metadata": {
    "collapsed": false,
    "pycharm": {
     "name": "#%%\n"
    }
   }
  },
  {
   "cell_type": "code",
   "execution_count": 108,
   "outputs": [
    {
     "data": {
      "text/plain": "{'_id': '1',\n 'firstName': 'Иван',\n 'secondName': 'Иванов',\n 'lastName': 'Иванович',\n 'birthDate': '26.10.1972',\n 'country': 'Россия',\n 'city': 'Москва',\n 'citizenship': 'Российское',\n 'gender': 'Мужской',\n 'contacts': {'phone': '+95159195192',\n  'email': 'ivanov@yandex.ru',\n  'vk': '@ivanov',\n  'telegram': '@ivanov',\n  'skype': 'ivanov'},\n 'education': {'startDate': '10.10.1990',\n  'startEnd': '10.10.1996',\n  'speciality': 'Компьютерные системы',\n  'universityName': 'МГУ'},\n 'jobInformation': {'employment': 'На себя',\n  'jobExperience': '20',\n  'achievements': ['Победа в хакатоне 2021',\n   'Победа в хакатоне 2006',\n   'Работал в СБЕР']},\n 'skillInformation': {'categories': ['Капитан', 'Teamlead', 'Backend'],\n  'skills': ['Excel', 'C#', '.net', 'Презентация', 'C++']},\n 'intellectualProperty': {'isIntellectualPropertyAuthor': True,\n  'numberOfDocument': '51295195129512'},\n 'companyInformation': {'isCompanyOwner': True,\n  'companyINN': '52151295912959'},\n 'hackathon': {'countHackathons': '10',\n  'additional': {'github': '', 'linkedin': '', 'cv': ''}},\n 'interestedTags': ['social', 'modern ui'],\n 'experience': '1000',\n 'aboutDescription': 'Я уже опытный разработчик, хочу участвовать в разработке социальной сети. Есть несколько крутых идей, с помощью которых мы изменим мир!'}"
     },
     "execution_count": 108,
     "metadata": {},
     "output_type": "execute_result"
    }
   ],
   "source": [
    "get_user(1)"
   ],
   "metadata": {
    "collapsed": false,
    "pycharm": {
     "name": "#%%\n"
    }
   }
  },
  {
   "cell_type": "code",
   "execution_count": 109,
   "outputs": [
    {
     "data": {
      "text/plain": "[{'_id': '1',\n  'type': 'hackathon',\n  'projectName': 'Star Bear',\n  'projectDescription': 'Проект для поиска единомышленников и обмена идеями',\n  'isPublished': True,\n  'projectTags': ['social', 'modern ui'],\n  'projectOwnerId': '1',\n  'existTeam': [{'userId': '1', 'category': 'Teamlead', 'skills': ['Excel']}],\n  'lookingForTeam': [{'category': 'Frontend', 'skills': ['Angular']},\n   {'category': 'Backend', 'skills': ['C#', 'Node js', 'Nest js']},\n   {'category': 'Frontend', 'skills': ['React']}],\n  'projectCostByAdmin': [{'rate': '', 'solution': '', 'publishDate': ''}],\n  'isInnovated': False,\n  'innovator': {'projectLink': '',\n   'presentationFileId': '',\n   'supportExperience': ['accelerator', 'grants']},\n  'hackathon': {'targetTask': {'id': '1'}},\n  'novatorOfMoscow': {'inn': '',\n   'registration': '',\n   'supportExperience': [''],\n   'nomination': 'Проект будущего',\n   'direction': 'Экология и охрана',\n   'revenue': '',\n   'projectReadinessStage': 'mvp',\n   'projectLink': '',\n   'presentationFileId': '',\n   'businessPlanFileId': '',\n   'copyOfSecurityDocFileId': '',\n   'confirmationOfProjectProgress': ['', ''],\n   'additional': {'proofs': [{'fileId': ''}],\n    'characteristics': [{'key': '', 'value': ''}]}},\n  'views': 10,\n  'rate': [{'userId': '1', 'count': 10}, {'userId': '2', 'count': -10}],\n  'comments': [{'userId': '1', 'comment': 'Невероятно!'}]},\n {'_id': '2',\n  'type': 'novatorOfMoscow',\n  'projectName': 'NovaMoscow',\n  'projectDescription': 'Высокоэффективные композиционные материалы на основе аэрогелей для создания инновационной среды города будущего',\n  'isPublished': True,\n  'projectTags': ['social', 'modern ui'],\n  'projectOwnerId': '2',\n  'existTeam': [{'userId': '2', 'category': 'Frontend', 'skills': ['Angular']},\n   {'userId': '3', 'category': 'Backend', 'skills': ['C#', 'C++']}],\n  'lookingForTeam': [{'category': 'Frontend', 'skills': ['Angular']},\n   {'category': 'Backend', 'skills': ['C#', 'C++']}],\n  'projectCostByAdmin': [{'rate': '', 'solution': '', 'publishDate': ''}],\n  'isInnovated': True,\n  'innovator': {'projectLink': '',\n   'presentationFileId': '',\n   'supportExperience': ['accelerator', 'grants']},\n  'hackathon': {'targetTask': {'id': '1'}},\n  'novatorOfMoscow': {'inn': '46363463436',\n   'registration': 'Москва',\n   'supportExperience': ['accelerator'],\n   'nomination': 'Проект будущего',\n   'direction': 'Экология и охрана',\n   'revenue': '510000',\n   'projectReadinessStage': 'mvp',\n   'projectLink': '',\n   'presentationFileId': '',\n   'businessPlanFileId': '',\n   'copyOfSecurityDocFileId': '',\n   'confirmationOfProjectProgress': ['', ''],\n   'additional': {'proofs': [{'fileId': ''}],\n    'characteristics': [{'key': '', 'value': ''}]}},\n  'views': 50,\n  'rate': [{'userId': '1', 'count': 10},\n   {'userId': '2', 'count': -10},\n   {'userId': '3', 'count': -10},\n   {'userId': '4', 'count': -10},\n   {'userId': '5', 'count': -10}],\n  'comments': [{'userId': '1', 'comment': 'Мда, выглядит не очень'}]},\n {'_id': '3',\n  'type': 'innovator',\n  'projectName': 'Innovator ->',\n  'projectDescription': 'Облачный сервис мониторинга и управления бортовыми системами транспортных средств',\n  'isPublished': True,\n  'projectTags': ['ai', 'робототехника'],\n  'projectOwnerId': '2',\n  'existTeam': [{'userId': '2',\n    'category': 'Frontend',\n    'skills': ['Angular']}],\n  'lookingForTeam': [{'category': 'Backend', 'skills': ['C++']},\n   {'category': 'Backend', 'skills': ['C#']}],\n  'projectCostByAdmin': [{'rate': '', 'solution': '', 'publishDate': ''}],\n  'isInnovated': True,\n  'innovator': {'projectLink': '',\n   'presentationFileId': '',\n   'supportExperience': ['accelerator', 'grants']},\n  'hackathon': {'targetTask': {'id': '1'}},\n  'novatorOfMoscow': {'inn': '46363463436',\n   'registration': 'Москва',\n   'supportExperience': ['accelerator'],\n   'nomination': 'Проект будущего',\n   'direction': 'Экология и охрана',\n   'revenue': '510000',\n   'projectReadinessStage': 'mvp',\n   'projectLink': '',\n   'presentationFileId': '',\n   'businessPlanFileId': '',\n   'copyOfSecurityDocFileId': '',\n   'confirmationOfProjectProgress': ['', ''],\n   'additional': {'proofs': [{'fileId': ''}],\n    'characteristics': [{'key': '', 'value': ''}]}},\n  'views': 50,\n  'rate': [{'userId': '1', 'count': 10},\n   {'userId': '2', 'count': -10},\n   {'userId': '3', 'count': -10},\n   {'userId': '4', 'count': -10},\n   {'userId': '5', 'count': -10}],\n  'comments': [{'userId': '1', 'comment': 'Мда, выглядит не очень'}]},\n {'_id': '3',\n  'type': 'innovator',\n  'projectName': 'Новое освещение',\n  'projectDescription': 'Новые люминесцентные материалы для биологически безопасного энергоэффективного освещения',\n  'isPublished': True,\n  'projectTags': ['ai', 'biotech'],\n  'projectOwnerId': '2',\n  'existTeam': [{'userId': '2',\n    'category': 'Frontend',\n    'skills': ['Angular']}],\n  'lookingForTeam': [{'category': 'Backend', 'skills': ['C++']},\n   {'category': 'Backend', 'skills': ['C#']}],\n  'projectCostByAdmin': [{'rate': '', 'solution': '', 'publishDate': ''}],\n  'isInnovated': True,\n  'innovator': {'projectLink': '',\n   'presentationFileId': '',\n   'supportExperience': ['accelerator', 'grants']},\n  'hackathon': {'targetTask': {'id': '1'}},\n  'novatorOfMoscow': {'inn': '46363463436',\n   'registration': 'Москва',\n   'supportExperience': ['accelerator'],\n   'nomination': 'Проект будущего',\n   'direction': 'Экология и охрана',\n   'revenue': '510000',\n   'projectReadinessStage': 'mvp',\n   'projectLink': '',\n   'presentationFileId': '',\n   'businessPlanFileId': '',\n   'copyOfSecurityDocFileId': '',\n   'confirmationOfProjectProgress': ['', ''],\n   'additional': {'proofs': [{'fileId': ''}],\n    'characteristics': [{'key': '', 'value': ''}]}},\n  'views': 120,\n  'rate': [{'userId': '1', 'count': 10},\n   {'userId': '2', 'count': -10},\n   {'userId': '3', 'count': -10},\n   {'userId': '4', 'count': 10},\n   {'userId': '5', 'count': 10},\n   {'userId': '6', 'count': 10},\n   {'userId': '7', 'count': 10},\n   {'userId': '8', 'count': 10},\n   {'userId': '9', 'count': 10},\n   {'userId': '10', 'count': -10}],\n  'comments': [{'userId': '1', 'comment': 'Мда, выглядит не очень'}]}]"
     },
     "execution_count": 109,
     "metadata": {},
     "output_type": "execute_result"
    }
   ],
   "source": [
    "get_all_projects()"
   ],
   "metadata": {
    "collapsed": false,
    "pycharm": {
     "name": "#%%\n"
    }
   }
  },
  {
   "cell_type": "code",
   "execution_count": 110,
   "outputs": [],
   "source": [
    "def search_projects_for_specialist(user_id: int, input_df: pd.DataFrame) -> Dict[int, Dict[str, float]]:\n",
    "\n",
    "    roles = get_user_roles_desc(user_id)\n",
    "    skills = get_user_skill_desc(user_id)\n",
    "    desc = get_user_text_desc(user_id)\n",
    "\n",
    "    all_projects = get_all_projects()\n",
    "    all_ids = [int(user['_id']) for user in all_projects]\n",
    "\n",
    "    result_dict = {}\n",
    "\n",
    "    for id in all_ids:\n",
    "        id_metrics = {}\n",
    "        looking_for_info = get_project(id)['lookingForTeam']\n",
    "        for info in looking_for_info:\n",
    "            role_metric = 1 if intersection_metric(roles, info['category']) > 0 else 0\n",
    "            skills_metric = intersection_metric(skills, info['skills'])\n",
    "            result_metric = role_metric * skills_metric\n",
    "            id_metrics[info['category']] = result_metric\n",
    "        project_desc = get_project_text_desc(id)\n",
    "        id_metrics['semantic'] = cosine_similarity(embedd_representation(desc, input_df), embedd_representation(project_desc, input_df))\n",
    "        result_dict[id] = id_metrics\n",
    "\n",
    "    return result_dict"
   ],
   "metadata": {
    "collapsed": false,
    "pycharm": {
     "name": "#%%\n"
    }
   }
  },
  {
   "cell_type": "code",
   "execution_count": 111,
   "outputs": [
    {
     "data": {
      "text/plain": "{1: {'Frontend': 0, 'Backend': 1, 'semantic': 0.6794743537902832},\n 2: {'Frontend': 0, 'Backend': 2, 'semantic': 0.6167054176330566},\n 3: {'Backend': 1, 'semantic': 0.5867804884910583}}"
     },
     "execution_count": 111,
     "metadata": {},
     "output_type": "execute_result"
    }
   ],
   "source": [
    "search_projects_for_specialist(1, test_parquet)"
   ],
   "metadata": {
    "collapsed": false,
    "pycharm": {
     "name": "#%%\n"
    }
   }
  },
  {
   "cell_type": "code",
   "execution_count": 112,
   "outputs": [],
   "source": [
    "request_all_users = requests.get(\"https://space-bear-api.herokuapp.com/api/users/ml-get-all\")\n",
    "all_users_dict = request_all_users.json()\n",
    "all_users = {int(user['_id']): user for user in all_users_dict}\n",
    "\n",
    "request_all_projects = requests.get(\"https://space-bear-api.herokuapp.com/api/projects/ml-get-all\")\n",
    "all_projects_dict = request_all_projects.json()\n",
    "all_projects = {int(project['_id']): project for project in all_projects_dict}"
   ],
   "metadata": {
    "collapsed": false,
    "pycharm": {
     "name": "#%%\n"
    }
   }
  },
  {
   "cell_type": "code",
   "execution_count": 120,
   "outputs": [
    {
     "data": {
      "text/plain": "{'_id': '1',\n 'firstName': 'Иван',\n 'secondName': 'Иванов',\n 'lastName': 'Иванович',\n 'birthDate': '26.10.1972',\n 'country': 'Россия',\n 'city': 'Москва',\n 'citizenship': 'Российское',\n 'gender': 'Мужской',\n 'contacts': {'phone': '+95159195192',\n  'email': 'ivanov@yandex.ru',\n  'vk': '@ivanov',\n  'telegram': '@ivanov',\n  'skype': 'ivanov'},\n 'education': {'startDate': '10.10.1990',\n  'startEnd': '10.10.1996',\n  'speciality': 'Компьютерные системы',\n  'universityName': 'МГУ'},\n 'jobInformation': {'employment': 'На себя',\n  'jobExperience': '20',\n  'achievements': ['Победа в хакатоне 2021',\n   'Победа в хакатоне 2006',\n   'Работал в СБЕР']},\n 'skillInformation': {'categories': ['Капитан', 'Teamlead', 'Backend'],\n  'skills': ['Excel', 'C#', '.net', 'Презентация', 'C++']},\n 'intellectualProperty': {'isIntellectualPropertyAuthor': True,\n  'numberOfDocument': '51295195129512'},\n 'companyInformation': {'isCompanyOwner': True,\n  'companyINN': '52151295912959'},\n 'hackathon': {'countHackathons': '10',\n  'additional': {'github': '', 'linkedin': '', 'cv': ''}},\n 'interestedTags': ['social', 'modern ui'],\n 'experience': '1000',\n 'aboutDescription': 'Я уже опытный разработчик, хочу участвовать в разработке социальной сети. Есть несколько крутых идей, с помощью которых мы изменим мир!'}"
     },
     "execution_count": 120,
     "metadata": {},
     "output_type": "execute_result"
    }
   ],
   "source": [
    "all_users[1]"
   ],
   "metadata": {
    "collapsed": false,
    "pycharm": {
     "name": "#%%\n"
    }
   }
  },
  {
   "cell_type": "code",
   "execution_count": 116,
   "outputs": [
    {
     "data": {
      "text/plain": "[{'_id': '1',\n  'firstName': 'Иван',\n  'secondName': 'Иванов',\n  'lastName': 'Иванович',\n  'birthDate': '26.10.1972',\n  'country': 'Россия',\n  'city': 'Москва',\n  'citizenship': 'Российское',\n  'gender': 'Мужской',\n  'contacts': {'phone': '+95159195192',\n   'email': 'ivanov@yandex.ru',\n   'vk': '@ivanov',\n   'telegram': '@ivanov',\n   'skype': 'ivanov'},\n  'education': {'startDate': '10.10.1990',\n   'startEnd': '10.10.1996',\n   'speciality': 'Компьютерные системы',\n   'universityName': 'МГУ'},\n  'jobInformation': {'employment': 'На себя',\n   'jobExperience': '20',\n   'achievements': ['Победа в хакатоне 2021',\n    'Победа в хакатоне 2006',\n    'Работал в СБЕР']},\n  'skillInformation': {'categories': ['Капитан', 'Teamlead', 'Backend'],\n   'skills': ['Excel', 'C#', '.net', 'Презентация', 'C++']},\n  'intellectualProperty': {'isIntellectualPropertyAuthor': True,\n   'numberOfDocument': '51295195129512'},\n  'companyInformation': {'isCompanyOwner': True,\n   'companyINN': '52151295912959'},\n  'hackathon': {'countHackathons': '10',\n   'additional': {'github': '', 'linkedin': '', 'cv': ''}},\n  'interestedTags': ['social', 'modern ui'],\n  'experience': '1000',\n  'aboutDescription': 'Я уже опытный разработчик, хочу участвовать в разработке социальной сети. Есть несколько крутых идей, с помощью которых мы изменим мир!'},\n {'_id': '2',\n  'firstName': 'Михаил',\n  'secondName': 'Романов',\n  'lastName': 'Иванович',\n  'birthDate': '26.10.2000',\n  'country': 'Россия',\n  'city': 'Ижевск',\n  'citizenship': 'Российское',\n  'gender': 'Мужской',\n  'contacts': {'phone': '+9542512775192',\n   'email': 'romanov@yandex.ru',\n   'vk': '@romanov',\n   'telegram': '@romanov',\n   'skype': 'romanov'},\n  'education': {'startDate': '10.10.2017',\n   'startEnd': '10.10.2022',\n   'speciality': 'Биологические Технологии',\n   'universityName': 'ИГУ'},\n  'jobInformation': {'employment': 'Без работы',\n   'jobExperience': '2',\n   'achievements': ['Закончил школу с золотой медалью']},\n  'skillInformation': {'categories': ['Backend'],\n   'skills': ['C++', 'Математический анализ']},\n  'intellectualProperty': {'isIntellectualPropertyAuthor': False,\n   'numberOfDocument': ''},\n  'companyInformation': {'isCompanyOwner': False, 'companyINN': ''},\n  'hackathon': {'countHackathons': '1',\n   'additional': {'github': '', 'linkedin': '', 'cv': ''}},\n  'interestedTags': ['biotech', 'ar/vr'],\n  'aboutDescription': 'Я закончил институт на биотехнологиях, есть идея по разработке программы в AR / VR, которая ускорит разработку лекарственных препаратов'},\n {'_id': '3',\n  'firstName': 'Алексей',\n  'secondName': 'Журавлев',\n  'lastName': 'Иванович',\n  'birthDate': '26.10.1996',\n  'country': 'Россия',\n  'city': 'Воронеж',\n  'citizenship': 'Российское',\n  'gender': 'Мужской',\n  'contacts': {'phone': '+9612627552',\n   'email': 'juravlev@yandex.ru',\n   'vk': '@juravlev',\n   'telegram': '@juravlev',\n   'skype': 'juravlev'},\n  'education': {'startDate': '10.10.2017',\n   'startEnd': '10.10.2022',\n   'speciality': 'Разработка',\n   'universityName': 'ВГУ'},\n  'jobInformation': {'employment': 'По найму',\n   'jobExperience': '3',\n   'achievements': ['Выиграл 1 хакатон']},\n  'skillInformation': {'categories': ['Frontend'], 'skills': ['Angular']},\n  'intellectualProperty': {'isIntellectualPropertyAuthor': False,\n   'numberOfDocument': ''},\n  'companyInformation': {'isCompanyOwner': False, 'companyINN': ''},\n  'hackathon': {'countHackathons': '1',\n   'additional': {'github': '', 'linkedin': '', 'cv': ''}},\n  'interestedTags': ['ai', 'fintech'],\n  'aboutDescription': 'Я джуниор frontend разработчик, интересны проекты с ИИ и финтех'},\n {'_id': '4',\n  'firstName': 'Дарья',\n  'secondName': 'Фет',\n  'lastName': 'Ивановна',\n  'birthDate': '26.10.2002',\n  'country': 'Россия',\n  'city': 'Воронеж',\n  'citizenship': 'Российское',\n  'gender': 'Женский',\n  'contacts': {'phone': '+9532527552',\n   'email': 'fet@yandex.ru',\n   'vk': '@fet',\n   'telegram': '@fet',\n   'skype': 'fet'},\n  'education': {'startDate': '10.10.2017',\n   'startEnd': '10.10.2022',\n   'speciality': 'Разработка',\n   'universityName': 'ВГУ'},\n  'jobInformation': {'employment': 'По найму',\n   'jobExperience': '1',\n   'achievements': ['Выиграл 1 хакатон']},\n  'skillInformation': {'categories': ['Design'], 'skills': ['Figma']},\n  'intellectualProperty': {'isIntellectualPropertyAuthor': False,\n   'numberOfDocument': ''},\n  'companyInformation': {'isCompanyOwner': False, 'companyINN': ''},\n  'hackathon': {'countHackathons': '4',\n   'additional': {'github': '', 'linkedin': '', 'cv': ''}},\n  'interestedTags': ['ai'],\n  'aboutDescription': 'Я начинающий дизайнер, интересно всё что связано с ИИ'},\n {'_id': '5',\n  'firstName': 'ALIWONK',\n  'secondName': 'Baldan',\n  'lastName': '',\n  'birthDate': '26.10.2002',\n  'country': 'Россия',\n  'city': '',\n  'citizenship': '',\n  'gender': 'Мужской',\n  'contacts': {'phone': '',\n   'email': '',\n   'vk': '',\n   'telegram': '',\n   'skype': ''},\n  'education': {'startDate': '',\n   'startEnd': '',\n   'speciality': '',\n   'universityName': ''},\n  'jobInformation': {'employment': 'По найму',\n   'jobExperience': '2',\n   'achievements': ['']},\n  'skillInformation': {'categories': ['Frontend'],\n   'skills': ['React js', 'JavaScript', 'Node js']},\n  'intellectualProperty': {'isIntellectualPropertyAuthor': False,\n   'numberOfDocument': ''},\n  'companyInformation': {'isCompanyOwner': False, 'companyINN': ''},\n  'hackathon': {'countHackathons': '4',\n   'additional': {'github': '', 'linkedin': '', 'cv': ''}},\n  'interestedTags': ['social', 'game', 'fintech'],\n  'aboutDescription': 'Обожаю в уютные вечера погрузиться в виртуальные миры, которые расслабляет тебя своей историей. Хорошо помогает отвлечься от тяжелого дня. В душе навсегда остались такие шедевры как: Withcer 3, Sekiro Shadow Die Twice, Bloodborne, Metro, RDR 2, God of War. Еще периодически люблю пойти в зал, чтобы выпустить свой накопленный в течении дня негатив. Работаю с javascript уже 1.5 года. Смогу решить задачи выше среднее уровня, разработаю сайты используя универсальность JS. Есть опыт на frontend: React, animeJs, Fetch. Также есть опыт на backend: Node JS, Express Js, Nest JS, MysSql(использую TypeOrm), MongoDb. Черпал и осваивал все знание из открытых источников: YouTube, google, документации, статьи и т.д'},\n {'_id': '6',\n  'firstName': 'Арина',\n  'secondName': 'Лялина',\n  'lastName': '',\n  'birthDate': '',\n  'country': 'Россия',\n  'city': '',\n  'citizenship': '',\n  'gender': 'Женский',\n  'contacts': {'phone': '',\n   'email': '',\n   'vk': '',\n   'telegram': '',\n   'skype': ''},\n  'education': {'startDate': '',\n   'startEnd': '',\n   'speciality': '',\n   'universityName': ''},\n  'jobInformation': {'employment': 'По найму',\n   'jobExperience': '1',\n   'achievements': ['']},\n  'skillInformation': {'categories': ['Marketing'], 'skills': ['SMM']},\n  'intellectualProperty': {'isIntellectualPropertyAuthor': False,\n   'numberOfDocument': ''},\n  'companyInformation': {'isCompanyOwner': False, 'companyINN': ''},\n  'hackathon': {'countHackathons': '2',\n   'additional': {'github': '', 'linkedin': '', 'cv': ''}},\n  'interestedTags': ['edtech'],\n  'aboutDescription': 'Привет! Меня зовут Арина и я руководитель команды и проекта - STUDY IT. STUDY IT - это платформа для обучения, где каждый может записать свой курс, используя готовые инструменты, выставить цену и обрести новых клиентов, а также получить новые знания по выгодным ценам! Расширяем команду проекта, чтобы быстрее развивать и выводить на рынок наш проект. Поддержка проекта со стороны топовых экспертов EdTech! Требуются: графические и веб дизайнеры, frontend и backend разработчики, маркетологи'},\n {'_id': '7',\n  'firstName': 'S',\n  'secondName': '',\n  'lastName': '',\n  'birthDate': '',\n  'country': 'Россия',\n  'city': '',\n  'citizenship': '',\n  'gender': 'Мужской',\n  'contacts': {'phone': '',\n   'email': '',\n   'vk': '',\n   'telegram': '',\n   'skype': ''},\n  'education': {'startDate': '',\n   'startEnd': '',\n   'speciality': '',\n   'universityName': ''},\n  'jobInformation': {'employment': 'По найму',\n   'jobExperience': '2',\n   'achievements': ['']},\n  'skillInformation': {'categories': ['Backend'], 'skills': ['Java']},\n  'intellectualProperty': {'isIntellectualPropertyAuthor': False,\n   'numberOfDocument': ''},\n  'companyInformation': {'isCompanyOwner': False, 'companyINN': ''},\n  'hackathon': {'countHackathons': '0',\n   'additional': {'github': '', 'linkedin': '', 'cv': ''}},\n  'interestedTags': ['fintech', 'social', 'знакомства и общение'],\n  'aboutDescription': 'Студент московского вуза, работаю разработчиком java back. В среднесрочных целях - переезд в другую страну с получением там работы, в связи с этим много работаю и учусь Помимо тех знаний интересуюсь различными направлениями от английского и психологии до нейробиологии и нутрициологии, в основном всем тем, что помогает эффективнее учится и лучше себя чувствовать. Год коммерческого опыта в разработке на java. Работаю в альфа-банке, занимаюсь разработкой бэкенда для мобильного приложения На начальном уровне знаю c++, python, машинное обучение. В моих планах развиваться как it специалист, а это происходит быстрее при обмене опытом, если вам интересно, то можем попробовать вместе начать какой нибудь проект учебный/коммерческий или просто иметь контакты друг друга и обращаться за помощью'},\n {'_id': '8',\n  'firstName': 'Сергей',\n  'secondName': '',\n  'lastName': '',\n  'birthDate': '',\n  'country': 'Россия',\n  'city': '',\n  'citizenship': '',\n  'gender': 'Мужской',\n  'contacts': {'phone': '',\n   'email': '',\n   'vk': '',\n   'telegram': '',\n   'skype': ''},\n  'education': {'startDate': '',\n   'startEnd': '',\n   'speciality': '',\n   'universityName': ''},\n  'jobInformation': {'employment': 'По найму',\n   'jobExperience': '15',\n   'achievements': ['']},\n  'skillInformation': {'categories': ['Backend'], 'skills': ['Java']},\n  'intellectualProperty': {'isIntellectualPropertyAuthor': False,\n   'numberOfDocument': ''},\n  'companyInformation': {'isCompanyOwner': False, 'companyINN': ''},\n  'hackathon': {'countHackathons': '0',\n   'additional': {'github': '', 'linkedin': '', 'cv': ''}},\n  'interestedTags': ['fintech', 'social', 'знакомства и общение'],\n  'aboutDescription': 'Студент московского вуза, работаю разработчиком java back. В среднесрочных целях - переезд в другую страну с получением там работы, в связи с этим много работаю и учусь Помимо тех знаний интересуюсь различными направлениями от английского и психологии до нейробиологии и нутрициологии, в основном всем тем, что помогает эффективнее учится и лучше себя чувствовать. Год коммерческого опыта в разработке на java. Работаю в альфа-банке, занимаюсь разработкой бэкенда для мобильного приложения На начальном уровне знаю c++, python, машинное обучение. В моих планах развиваться как it специалист, а это происходит быстрее при обмене опытом, если вам интересно, то можем попробовать вместе начать какой нибудь проект учебный/коммерческий или просто иметь контакты друг друга и обращаться за помощью'},\n {'_id': '9',\n  'firstName': 'Алдар',\n  'secondName': '',\n  'lastName': '',\n  'birthDate': '',\n  'country': 'Россия',\n  'city': '',\n  'citizenship': '',\n  'gender': 'Мужской',\n  'contacts': {'phone': '',\n   'email': '',\n   'vk': '',\n   'telegram': '',\n   'skype': ''},\n  'education': {'startDate': '',\n   'startEnd': '',\n   'speciality': '',\n   'universityName': ''},\n  'jobInformation': {'employment': 'По найму',\n   'jobExperience': '15',\n   'achievements': ['']},\n  'skillInformation': {'categories': ['Капитан / Project Manager / Product Owner'],\n   'skills': ['Excel', 'Управление командой', 'Презентация', 'CustDev']},\n  'intellectualProperty': {'isIntellectualPropertyAuthor': False,\n   'numberOfDocument': ''},\n  'companyInformation': {'isCompanyOwner': False, 'companyINN': ''},\n  'hackathon': {'countHackathons': '0',\n   'additional': {'github': '', 'linkedin': '', 'cv': ''}},\n  'interestedTags': ['mental health', 'social', 'знакомства и общение'],\n  'aboutDescription': 'Я джун продакт. Мне 20 лет и я живу в Улан-Удэ, Бурятия. Учился на политолога, но с пандемии и фильма Дудя решил бросить универ и уйти в айти. Хотел изначально развивать стартапы, но после нескольких неудачных попыток и бесчисленного количества ошибок я пришел к выводу, что лучше набраться опыта, углубиться в теорию создания продуктов и поработать в команде! Ищу стартап, где могу набраться опытом, взять на себя больше отвественности и поработать в команде! Пишите в телегу (t.me/asaldasar), там я точно на связи:). Уже полтора года в IT сфере и последние полгода в продакт-менеджменте. Развивал два проекта (Tinder для поиска друзей и групповая терапия онлайн) и допустил такие ошибки: 1. Не протестировал самые рискованные гипотезы через фрейморк RAT (в следующий раз не буду разрабатывать сразу сайт и решение, пока не пойму, что нет других способов протестировать гипотезу) 2. В команде не выстроил крутую коммуникацию (сейчас страюсь выявить мотивацию каждого члена команды, указывать сроки и ограничения в самом начале, не давать четкое решение, а обсуждать её со специалистом и налаживать общение внутри команды) 3, Кастдевы и аналитика. В первую очередь важно анализировать рынок и конкурентов, думать о проблеме, а не о решении. В кастдевах спрашивать про текущие решения, мотивацию и степень неудовлетворенности решением. Прохожу сейчас курсы, читаю статьи, блоги, книги и смотрю видео, самостоятельно тестирую гипотезы и провожу кастдевы. Стараюсь на практике применить полученные знания. Хочу залететь в стартап и помогать с созданием продукта. Сфера не принципиальна, мой опыт в основном был с b2c. Я 4 года работал в медиа, поэтому мне близко всё, что связано с creator economy, edtech, fintech и mental health'},\n {'_id': '10',\n  'firstName': 'Ilya ',\n  'secondName': '',\n  'lastName': '',\n  'birthDate': '',\n  'country': 'Россия',\n  'city': '',\n  'citizenship': '',\n  'gender': 'Мужской',\n  'contacts': {'phone': '',\n   'email': '',\n   'vk': '',\n   'telegram': '',\n   'skype': ''},\n  'education': {'startDate': '',\n   'startEnd': '',\n   'speciality': '',\n   'universityName': ''},\n  'jobInformation': {'employment': 'По найму',\n   'jobExperience': '3',\n   'achievements': ['']},\n  'skillInformation': {'categories': ['Frontend'], 'skills': ['React js']},\n  'intellectualProperty': {'isIntellectualPropertyAuthor': False,\n   'numberOfDocument': ''},\n  'companyInformation': {'isCompanyOwner': False, 'companyINN': ''},\n  'hackathon': {'countHackathons': '0',\n   'additional': {'github': '', 'linkedin': '', 'cv': ''}},\n  'interestedTags': ['mental health', 'social', 'знакомства и общение'],\n  'aboutDescription': '2,5 года занимаюсь разработкой крупной системы для менеджмента работников крупных предприятий. Хотелось бы найти интересный стартап/ проект для повышения своим навыков'}]"
     },
     "execution_count": 116,
     "metadata": {},
     "output_type": "execute_result"
    }
   ],
   "source": [
    "list(all_users.values())"
   ],
   "metadata": {
    "collapsed": false,
    "pycharm": {
     "name": "#%%\n"
    }
   }
  },
  {
   "cell_type": "code",
   "execution_count": 119,
   "outputs": [
    {
     "data": {
      "text/plain": "{'_id': '1',\n 'type': 'hackathon',\n 'projectName': 'Star Bear',\n 'projectDescription': 'Проект для поиска единомышленников и обмена идеями',\n 'isPublished': True,\n 'projectTags': ['social', 'modern ui'],\n 'projectOwnerId': '1',\n 'existTeam': [{'userId': '1', 'category': 'Teamlead', 'skills': ['Excel']}],\n 'lookingForTeam': [{'category': 'Frontend', 'skills': ['Angular']},\n  {'category': 'Backend', 'skills': ['C#', 'Node js', 'Nest js']},\n  {'category': 'Frontend', 'skills': ['React']}],\n 'projectCostByAdmin': [{'rate': '', 'solution': '', 'publishDate': ''}],\n 'isInnovated': False,\n 'innovator': {'projectLink': '',\n  'presentationFileId': '',\n  'supportExperience': ['accelerator', 'grants']},\n 'hackathon': {'targetTask': {'id': '1'}},\n 'novatorOfMoscow': {'inn': '',\n  'registration': '',\n  'supportExperience': [''],\n  'nomination': 'Проект будущего',\n  'direction': 'Экология и охрана',\n  'revenue': '',\n  'projectReadinessStage': 'mvp',\n  'projectLink': '',\n  'presentationFileId': '',\n  'businessPlanFileId': '',\n  'copyOfSecurityDocFileId': '',\n  'confirmationOfProjectProgress': ['', ''],\n  'additional': {'proofs': [{'fileId': ''}],\n   'characteristics': [{'key': '', 'value': ''}]}},\n 'views': 10,\n 'rate': [{'userId': '1', 'count': 10}, {'userId': '2', 'count': -10}],\n 'comments': [{'userId': '1', 'comment': 'Невероятно!'}]}"
     },
     "execution_count": 119,
     "metadata": {},
     "output_type": "execute_result"
    }
   ],
   "source": [
    "request = requests.get(\"https://space-bear-api.herokuapp.com/api/projects/ml-get-all\")\n",
    "json_dict = request.json()\n",
    "json_dict[0]"
   ],
   "metadata": {
    "collapsed": false,
    "pycharm": {
     "name": "#%%\n"
    }
   }
  }
 ],
 "metadata": {
  "kernelspec": {
   "display_name": "Python 3",
   "language": "python",
   "name": "python3"
  },
  "language_info": {
   "codemirror_mode": {
    "name": "ipython",
    "version": 2
   },
   "file_extension": ".py",
   "mimetype": "text/x-python",
   "name": "python",
   "nbconvert_exporter": "python",
   "pygments_lexer": "ipython2",
   "version": "2.7.6"
  }
 },
 "nbformat": 4,
 "nbformat_minor": 0
}