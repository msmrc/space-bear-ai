{
 "cells": [
  {
   "cell_type": "code",
   "execution_count": 3,
   "metadata": {
    "collapsed": true,
    "pycharm": {
     "name": "#%%\n"
    }
   },
   "outputs": [],
   "source": [
    "import requests\n",
    "import string\n",
    "\n",
    "from utils.get_data import get_user, get_project, get_all_projects, get_all_users\n",
    "from utils.metric_utils import intersection_metric, iou_metric\n",
    "from utils.similarity_utils import cosine_similarity\n",
    "from utils.text_utils import embedd_representation, get_user_roles_desc, get_user_text_desc, get_user_skill_desc, get_project_text_desc\n",
    "from tqdm import tqdm\n",
    "import pickle\n",
    "import pandas as pd\n",
    "import numpy as np\n",
    "from scipy.spatial import distance\n",
    "from typing import Dict, Any, List"
   ]
  },
  {
   "cell_type": "code",
   "execution_count": 4,
   "outputs": [],
   "source": [
    "test_parquet = pd.read_parquet('/Users/andrey.krotkikh/Documents/embedds.parquet')"
   ],
   "metadata": {
    "collapsed": false,
    "pycharm": {
     "name": "#%%\n"
    }
   }
  },
  {
   "cell_type": "code",
   "execution_count": 108,
   "outputs": [
    {
     "data": {
      "text/plain": "{'_id': '1',\n 'firstName': 'Иван',\n 'secondName': 'Иванов',\n 'lastName': 'Иванович',\n 'birthDate': '26.10.1972',\n 'country': 'Россия',\n 'city': 'Москва',\n 'citizenship': 'Российское',\n 'gender': 'Мужской',\n 'contacts': {'phone': '+95159195192',\n  'email': 'ivanov@yandex.ru',\n  'vk': '@ivanov',\n  'telegram': '@ivanov',\n  'skype': 'ivanov'},\n 'education': {'startDate': '10.10.1990',\n  'startEnd': '10.10.1996',\n  'speciality': 'Компьютерные системы',\n  'universityName': 'МГУ'},\n 'jobInformation': {'employment': 'На себя',\n  'jobExperience': '20',\n  'achievements': ['Победа в хакатоне 2021',\n   'Победа в хакатоне 2006',\n   'Работал в СБЕР']},\n 'skillInformation': {'categories': ['Капитан', 'Teamlead', 'Backend'],\n  'skills': ['Excel', 'C#', '.net', 'Презентация', 'C++']},\n 'intellectualProperty': {'isIntellectualPropertyAuthor': True,\n  'numberOfDocument': '51295195129512'},\n 'companyInformation': {'isCompanyOwner': True,\n  'companyINN': '52151295912959'},\n 'hackathon': {'countHackathons': '10',\n  'additional': {'github': '', 'linkedin': '', 'cv': ''}},\n 'interestedTags': ['social', 'modern ui'],\n 'experience': '1000',\n 'aboutDescription': 'Я уже опытный разработчик, хочу участвовать в разработке социальной сети. Есть несколько крутых идей, с помощью которых мы изменим мир!'}"
     },
     "execution_count": 108,
     "metadata": {},
     "output_type": "execute_result"
    }
   ],
   "source": [
    "get_user(1)"
   ],
   "metadata": {
    "collapsed": false,
    "pycharm": {
     "name": "#%%\n"
    }
   }
  },
  {
   "cell_type": "code",
   "execution_count": 9,
   "outputs": [],
   "source": [
    "def search_users_for_user(id: int, input_df: pd.DataFrame) -> Dict[int, Dict[str, float]]:\n",
    "    interests = get_user(id)['interestedTags']\n",
    "    desc = get_user(id)['aboutDescription']\n",
    "\n",
    "    all_users = get_all_users()\n",
    "\n",
    "    result_dict = {}\n",
    "\n",
    "    for user in all_users:\n",
    "        if int(user['_id']) != id:\n",
    "            interests_metric = intersection_metric(interests, user['interestedTags'])\n",
    "            semantic_metric = cosine_similarity(embedd_representation(desc, input_df), embedd_representation(user['aboutDescription'], input_df))\n",
    "            result_dict[user['_id']] = {\"Interests\": interests_metric, \"Semantic\": semantic_metric}\n",
    "\n",
    "    return result_dict"
   ],
   "metadata": {
    "collapsed": false,
    "pycharm": {
     "name": "#%%\n"
    }
   }
  },
  {
   "cell_type": "code",
   "execution_count": 10,
   "outputs": [
    {
     "data": {
      "text/plain": "{'2': {'Interests': 0, 'Semantic': 0.7239373922348022},\n '3': {'Interests': 0, 'Semantic': 0.7435581088066101},\n '4': {'Interests': 0, 'Semantic': 0.8428709506988525},\n '5': {'Interests': 1, 'Semantic': 0.7765620553897354},\n '6': {'Interests': 0, 'Semantic': 0.8440775997855627},\n '7': {'Interests': 1, 'Semantic': 0.9152721743055132},\n '8': {'Interests': 1, 'Semantic': 0.9152721743055132},\n '9': {'Interests': 1, 'Semantic': 0.9120366041283666},\n '10': {'Interests': 1, 'Semantic': 0.7998495697975159}}"
     },
     "execution_count": 10,
     "metadata": {},
     "output_type": "execute_result"
    }
   ],
   "source": [
    "search_users_for_user(1, test_parquet)"
   ],
   "metadata": {
    "collapsed": false,
    "pycharm": {
     "name": "#%%\n"
    }
   }
  },
  {
   "cell_type": "code",
   "execution_count": 11,
   "outputs": [
    {
     "data": {
      "text/plain": "'Я уже опытный разработчик, хочу участвовать в разработке социальной сети. Есть несколько крутых идей, с помощью которых мы изменим мир!'"
     },
     "execution_count": 11,
     "metadata": {},
     "output_type": "execute_result"
    }
   ],
   "source": [
    "get_user(1)['aboutDescription']"
   ],
   "metadata": {
    "collapsed": false,
    "pycharm": {
     "name": "#%%\n"
    }
   }
  },
  {
   "cell_type": "code",
   "execution_count": 13,
   "outputs": [
    {
     "data": {
      "text/plain": "'Студент московского вуза, работаю разработчиком java back. В среднесрочных целях - переезд в другую страну с получением там работы, в связи с этим много работаю и учусь Помимо тех знаний интересуюсь различными направлениями от английского и психологии до нейробиологии и нутрициологии, в основном всем тем, что помогает эффективнее учится и лучше себя чувствовать. Год коммерческого опыта в разработке на java. Работаю в альфа-банке, занимаюсь разработкой бэкенда для мобильного приложения На начальном уровне знаю c++, python, машинное обучение. В моих планах развиваться как it специалист, а это происходит быстрее при обмене опытом, если вам интересно, то можем попробовать вместе начать какой нибудь проект учебный/коммерческий или просто иметь контакты друг друга и обращаться за помощью'"
     },
     "execution_count": 13,
     "metadata": {},
     "output_type": "execute_result"
    }
   ],
   "source": [
    "get_user(8)['aboutDescription']"
   ],
   "metadata": {
    "collapsed": false,
    "pycharm": {
     "name": "#%%\n"
    }
   }
  }
 ],
 "metadata": {
  "kernelspec": {
   "display_name": "Python 3",
   "language": "python",
   "name": "python3"
  },
  "language_info": {
   "codemirror_mode": {
    "name": "ipython",
    "version": 2
   },
   "file_extension": ".py",
   "mimetype": "text/x-python",
   "name": "python",
   "nbconvert_exporter": "python",
   "pygments_lexer": "ipython2",
   "version": "2.7.6"
  }
 },
 "nbformat": 4,
 "nbformat_minor": 0
}