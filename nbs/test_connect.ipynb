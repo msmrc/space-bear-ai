{
 "cells": [
  {
   "cell_type": "code",
   "execution_count": 1,
   "metadata": {
    "collapsed": true,
    "pycharm": {
     "name": "#%%\n"
    }
   },
   "outputs": [],
   "source": [
    "import requests\n",
    "\n",
    "from utils.get_data import get_user, get_project, get_all_projects, get_all_users\n",
    "from tqdm import tqdm\n",
    "import pickle\n",
    "import pandas as pd"
   ]
  },
  {
   "cell_type": "code",
   "execution_count": 7,
   "outputs": [],
   "source": [
    "with open('../assets/embedds.pickle', 'rb') as f:\n",
    "    embeddings_dict = pickle.load(f)"
   ],
   "metadata": {
    "collapsed": false,
    "pycharm": {
     "name": "#%%\n"
    }
   }
  },
  {
   "cell_type": "code",
   "execution_count": 8,
   "outputs": [],
   "source": [
    "embeddings_df = pd.DataFrame.from_dict(embeddings_dict).transpose()"
   ],
   "metadata": {
    "collapsed": false,
    "pycharm": {
     "name": "#%%\n"
    }
   }
  },
  {
   "cell_type": "code",
   "execution_count": 9,
   "outputs": [
    {
     "data": {
      "text/plain": "                         0         1         2         3         4         5   \\\n,                  0.165771 -0.517288  0.419655 -0.051957 -0.087263 -0.021959   \n.                  0.383446  0.011442  0.860179  0.129129 -0.266771 -0.042965   \nи                 -0.010855 -0.695681  0.137943  0.078002 -0.112360  0.173395   \nв                  0.072291 -0.373457  0.123495  0.219691 -0.415449  0.054333   \n</s>               0.804123 -0.131928  1.406710  0.330419 -0.397396 -0.131128   \n...                     ...       ...       ...       ...       ...       ...   \nКамнеломкоцветные  0.063629 -0.003122  0.028805  0.011930 -0.035004 -0.039403   \nИнститутские      -0.048349  0.036216  0.011569 -0.024944  0.018396  0.042685   \nКанаршино          0.097013  0.012781  0.054817 -0.021362 -0.051439  0.007110   \nгуттаперчевого    -0.007488 -0.004338 -0.016877 -0.009949  0.048390 -0.030819   \n16-метровой        0.005459 -0.001062 -0.022294  0.007251  0.020461 -0.012351   \n\n                         6         7         8         9   ...        40  \\\n,                  0.089717  0.167934 -0.119870 -0.020433  ... -0.009044   \n.                  0.268558  0.321658 -0.243419 -0.057822  ...  0.044906   \nи                  0.444733  0.114993  0.025454 -0.001267  ... -0.142463   \nв                 -0.016865  0.366148 -0.209039  0.168200  ... -0.066749   \n</s>               0.353531  0.324826 -0.467777 -0.049522  ...  0.156702   \n...                     ...       ...       ...       ...  ...       ...   \nКамнеломкоцветные  0.002906 -0.020911 -0.020743 -0.011403  ... -0.019126   \nИнститутские       0.010997  0.033845 -0.034893  0.069966  ...  0.022952   \nКанаршино          0.023580  0.060545 -0.021004 -0.024626  ... -0.017337   \nгуттаперчевого     0.055507  0.023366  0.004203 -0.044218  ... -0.036519   \n16-метровой       -0.026166  0.078701  0.058493 -0.061383  ...  0.020838   \n\n                         41        42        43        44        45        46  \\\n,                 -0.003489  0.187495 -0.144960 -0.020137  0.395344 -0.233079   \n.                  0.143004  0.122937 -0.475062  0.100880  0.235484 -0.244221   \nи                 -0.062530  0.015674 -0.106922 -0.168451  0.215671 -0.326548   \nв                  0.003132  0.224285 -0.298141 -0.052664  0.423817 -0.368453   \n</s>               0.000512  0.320597 -1.087240 -0.610243  0.274437 -0.429224   \n...                     ...       ...       ...       ...       ...       ...   \nКамнеломкоцветные  0.052208 -0.038741  0.085745 -0.008106 -0.000644  0.034023   \nИнститутские      -0.000172 -0.003782  0.094354 -0.003228  0.052083 -0.016838   \nКанаршино         -0.006107 -0.007448  0.152516  0.019361  0.071130  0.129731   \nгуттаперчевого     0.015597  0.005451  0.125339 -0.010558  0.014769  0.024188   \n16-метровой        0.013557  0.003906  0.079357 -0.019391  0.013747  0.024333   \n\n                         47        48        49  \n,                  0.025705 -0.408518 -0.224592  \n.                 -0.004340 -0.451731  0.027196  \nи                  0.115889 -0.438935 -0.157844  \nв                 -0.214593 -0.278668  0.242669  \n</s>               0.089688 -0.982359  0.325405  \n...                     ...       ...       ...  \nКамнеломкоцветные -0.000951 -0.002721  0.014279  \nИнститутские      -0.009135  0.020744  0.044195  \nКанаршино          0.035641  0.001117 -0.064517  \nгуттаперчевого    -0.013630  0.033302  0.017717  \n16-метровой       -0.003319  0.034497  0.067770  \n\n[2000000 rows x 50 columns]",
      "text/html": "<div>\n<style scoped>\n    .dataframe tbody tr th:only-of-type {\n        vertical-align: middle;\n    }\n\n    .dataframe tbody tr th {\n        vertical-align: top;\n    }\n\n    .dataframe thead th {\n        text-align: right;\n    }\n</style>\n<table border=\"1\" class=\"dataframe\">\n  <thead>\n    <tr style=\"text-align: right;\">\n      <th></th>\n      <th>0</th>\n      <th>1</th>\n      <th>2</th>\n      <th>3</th>\n      <th>4</th>\n      <th>5</th>\n      <th>6</th>\n      <th>7</th>\n      <th>8</th>\n      <th>9</th>\n      <th>...</th>\n      <th>40</th>\n      <th>41</th>\n      <th>42</th>\n      <th>43</th>\n      <th>44</th>\n      <th>45</th>\n      <th>46</th>\n      <th>47</th>\n      <th>48</th>\n      <th>49</th>\n    </tr>\n  </thead>\n  <tbody>\n    <tr>\n      <th>,</th>\n      <td>0.165771</td>\n      <td>-0.517288</td>\n      <td>0.419655</td>\n      <td>-0.051957</td>\n      <td>-0.087263</td>\n      <td>-0.021959</td>\n      <td>0.089717</td>\n      <td>0.167934</td>\n      <td>-0.119870</td>\n      <td>-0.020433</td>\n      <td>...</td>\n      <td>-0.009044</td>\n      <td>-0.003489</td>\n      <td>0.187495</td>\n      <td>-0.144960</td>\n      <td>-0.020137</td>\n      <td>0.395344</td>\n      <td>-0.233079</td>\n      <td>0.025705</td>\n      <td>-0.408518</td>\n      <td>-0.224592</td>\n    </tr>\n    <tr>\n      <th>.</th>\n      <td>0.383446</td>\n      <td>0.011442</td>\n      <td>0.860179</td>\n      <td>0.129129</td>\n      <td>-0.266771</td>\n      <td>-0.042965</td>\n      <td>0.268558</td>\n      <td>0.321658</td>\n      <td>-0.243419</td>\n      <td>-0.057822</td>\n      <td>...</td>\n      <td>0.044906</td>\n      <td>0.143004</td>\n      <td>0.122937</td>\n      <td>-0.475062</td>\n      <td>0.100880</td>\n      <td>0.235484</td>\n      <td>-0.244221</td>\n      <td>-0.004340</td>\n      <td>-0.451731</td>\n      <td>0.027196</td>\n    </tr>\n    <tr>\n      <th>и</th>\n      <td>-0.010855</td>\n      <td>-0.695681</td>\n      <td>0.137943</td>\n      <td>0.078002</td>\n      <td>-0.112360</td>\n      <td>0.173395</td>\n      <td>0.444733</td>\n      <td>0.114993</td>\n      <td>0.025454</td>\n      <td>-0.001267</td>\n      <td>...</td>\n      <td>-0.142463</td>\n      <td>-0.062530</td>\n      <td>0.015674</td>\n      <td>-0.106922</td>\n      <td>-0.168451</td>\n      <td>0.215671</td>\n      <td>-0.326548</td>\n      <td>0.115889</td>\n      <td>-0.438935</td>\n      <td>-0.157844</td>\n    </tr>\n    <tr>\n      <th>в</th>\n      <td>0.072291</td>\n      <td>-0.373457</td>\n      <td>0.123495</td>\n      <td>0.219691</td>\n      <td>-0.415449</td>\n      <td>0.054333</td>\n      <td>-0.016865</td>\n      <td>0.366148</td>\n      <td>-0.209039</td>\n      <td>0.168200</td>\n      <td>...</td>\n      <td>-0.066749</td>\n      <td>0.003132</td>\n      <td>0.224285</td>\n      <td>-0.298141</td>\n      <td>-0.052664</td>\n      <td>0.423817</td>\n      <td>-0.368453</td>\n      <td>-0.214593</td>\n      <td>-0.278668</td>\n      <td>0.242669</td>\n    </tr>\n    <tr>\n      <th>&lt;/s&gt;</th>\n      <td>0.804123</td>\n      <td>-0.131928</td>\n      <td>1.406710</td>\n      <td>0.330419</td>\n      <td>-0.397396</td>\n      <td>-0.131128</td>\n      <td>0.353531</td>\n      <td>0.324826</td>\n      <td>-0.467777</td>\n      <td>-0.049522</td>\n      <td>...</td>\n      <td>0.156702</td>\n      <td>0.000512</td>\n      <td>0.320597</td>\n      <td>-1.087240</td>\n      <td>-0.610243</td>\n      <td>0.274437</td>\n      <td>-0.429224</td>\n      <td>0.089688</td>\n      <td>-0.982359</td>\n      <td>0.325405</td>\n    </tr>\n    <tr>\n      <th>...</th>\n      <td>...</td>\n      <td>...</td>\n      <td>...</td>\n      <td>...</td>\n      <td>...</td>\n      <td>...</td>\n      <td>...</td>\n      <td>...</td>\n      <td>...</td>\n      <td>...</td>\n      <td>...</td>\n      <td>...</td>\n      <td>...</td>\n      <td>...</td>\n      <td>...</td>\n      <td>...</td>\n      <td>...</td>\n      <td>...</td>\n      <td>...</td>\n      <td>...</td>\n      <td>...</td>\n    </tr>\n    <tr>\n      <th>Камнеломкоцветные</th>\n      <td>0.063629</td>\n      <td>-0.003122</td>\n      <td>0.028805</td>\n      <td>0.011930</td>\n      <td>-0.035004</td>\n      <td>-0.039403</td>\n      <td>0.002906</td>\n      <td>-0.020911</td>\n      <td>-0.020743</td>\n      <td>-0.011403</td>\n      <td>...</td>\n      <td>-0.019126</td>\n      <td>0.052208</td>\n      <td>-0.038741</td>\n      <td>0.085745</td>\n      <td>-0.008106</td>\n      <td>-0.000644</td>\n      <td>0.034023</td>\n      <td>-0.000951</td>\n      <td>-0.002721</td>\n      <td>0.014279</td>\n    </tr>\n    <tr>\n      <th>Институтские</th>\n      <td>-0.048349</td>\n      <td>0.036216</td>\n      <td>0.011569</td>\n      <td>-0.024944</td>\n      <td>0.018396</td>\n      <td>0.042685</td>\n      <td>0.010997</td>\n      <td>0.033845</td>\n      <td>-0.034893</td>\n      <td>0.069966</td>\n      <td>...</td>\n      <td>0.022952</td>\n      <td>-0.000172</td>\n      <td>-0.003782</td>\n      <td>0.094354</td>\n      <td>-0.003228</td>\n      <td>0.052083</td>\n      <td>-0.016838</td>\n      <td>-0.009135</td>\n      <td>0.020744</td>\n      <td>0.044195</td>\n    </tr>\n    <tr>\n      <th>Канаршино</th>\n      <td>0.097013</td>\n      <td>0.012781</td>\n      <td>0.054817</td>\n      <td>-0.021362</td>\n      <td>-0.051439</td>\n      <td>0.007110</td>\n      <td>0.023580</td>\n      <td>0.060545</td>\n      <td>-0.021004</td>\n      <td>-0.024626</td>\n      <td>...</td>\n      <td>-0.017337</td>\n      <td>-0.006107</td>\n      <td>-0.007448</td>\n      <td>0.152516</td>\n      <td>0.019361</td>\n      <td>0.071130</td>\n      <td>0.129731</td>\n      <td>0.035641</td>\n      <td>0.001117</td>\n      <td>-0.064517</td>\n    </tr>\n    <tr>\n      <th>гуттаперчевого</th>\n      <td>-0.007488</td>\n      <td>-0.004338</td>\n      <td>-0.016877</td>\n      <td>-0.009949</td>\n      <td>0.048390</td>\n      <td>-0.030819</td>\n      <td>0.055507</td>\n      <td>0.023366</td>\n      <td>0.004203</td>\n      <td>-0.044218</td>\n      <td>...</td>\n      <td>-0.036519</td>\n      <td>0.015597</td>\n      <td>0.005451</td>\n      <td>0.125339</td>\n      <td>-0.010558</td>\n      <td>0.014769</td>\n      <td>0.024188</td>\n      <td>-0.013630</td>\n      <td>0.033302</td>\n      <td>0.017717</td>\n    </tr>\n    <tr>\n      <th>16-метровой</th>\n      <td>0.005459</td>\n      <td>-0.001062</td>\n      <td>-0.022294</td>\n      <td>0.007251</td>\n      <td>0.020461</td>\n      <td>-0.012351</td>\n      <td>-0.026166</td>\n      <td>0.078701</td>\n      <td>0.058493</td>\n      <td>-0.061383</td>\n      <td>...</td>\n      <td>0.020838</td>\n      <td>0.013557</td>\n      <td>0.003906</td>\n      <td>0.079357</td>\n      <td>-0.019391</td>\n      <td>0.013747</td>\n      <td>0.024333</td>\n      <td>-0.003319</td>\n      <td>0.034497</td>\n      <td>0.067770</td>\n    </tr>\n  </tbody>\n</table>\n<p>2000000 rows × 50 columns</p>\n</div>"
     },
     "execution_count": 9,
     "metadata": {},
     "output_type": "execute_result"
    }
   ],
   "source": [
    "embeddings_df"
   ],
   "metadata": {
    "collapsed": false,
    "pycharm": {
     "name": "#%%\n"
    }
   }
  },
  {
   "cell_type": "code",
   "execution_count": 21,
   "outputs": [],
   "source": [
    "embeddings_df.columns = [str(x) for x in embeddings_df.columns.tolist()]"
   ],
   "metadata": {
    "collapsed": false,
    "pycharm": {
     "name": "#%%\n"
    }
   }
  },
  {
   "cell_type": "code",
   "execution_count": 22,
   "outputs": [],
   "source": [
    "embeddings_df.to_parquet('embedds.parquet')"
   ],
   "metadata": {
    "collapsed": false,
    "pycharm": {
     "name": "#%%\n"
    }
   }
  },
  {
   "cell_type": "code",
   "execution_count": 20,
   "outputs": [
    {
     "ename": "ValueError",
     "evalue": "parquet must have string column names",
     "output_type": "error",
     "traceback": [
      "\u001B[0;31m---------------------------------------------------------------------------\u001B[0m",
      "\u001B[0;31mValueError\u001B[0m                                Traceback (most recent call last)",
      "Cell \u001B[0;32mIn [20], line 1\u001B[0m\n\u001B[0;32m----> 1\u001B[0m \u001B[43membeddings_df\u001B[49m\u001B[38;5;241;43m.\u001B[39;49m\u001B[43mto_parquet\u001B[49m\u001B[43m(\u001B[49m\u001B[38;5;124;43m'\u001B[39;49m\u001B[38;5;124;43membedds.parquet\u001B[39;49m\u001B[38;5;124;43m'\u001B[39;49m\u001B[43m)\u001B[49m\n",
      "File \u001B[0;32m~/spacebear/lib/python3.8/site-packages/pandas/util/_decorators.py:211\u001B[0m, in \u001B[0;36mdeprecate_kwarg.<locals>._deprecate_kwarg.<locals>.wrapper\u001B[0;34m(*args, **kwargs)\u001B[0m\n\u001B[1;32m    209\u001B[0m     \u001B[38;5;28;01melse\u001B[39;00m:\n\u001B[1;32m    210\u001B[0m         kwargs[new_arg_name] \u001B[38;5;241m=\u001B[39m new_arg_value\n\u001B[0;32m--> 211\u001B[0m \u001B[38;5;28;01mreturn\u001B[39;00m \u001B[43mfunc\u001B[49m\u001B[43m(\u001B[49m\u001B[38;5;241;43m*\u001B[39;49m\u001B[43margs\u001B[49m\u001B[43m,\u001B[49m\u001B[43m \u001B[49m\u001B[38;5;241;43m*\u001B[39;49m\u001B[38;5;241;43m*\u001B[39;49m\u001B[43mkwargs\u001B[49m\u001B[43m)\u001B[49m\n",
      "File \u001B[0;32m~/spacebear/lib/python3.8/site-packages/pandas/core/frame.py:2974\u001B[0m, in \u001B[0;36mDataFrame.to_parquet\u001B[0;34m(self, path, engine, compression, index, partition_cols, storage_options, **kwargs)\u001B[0m\n\u001B[1;32m   2887\u001B[0m \u001B[38;5;124;03m\"\"\"\u001B[39;00m\n\u001B[1;32m   2888\u001B[0m \u001B[38;5;124;03mWrite a DataFrame to the binary parquet format.\u001B[39;00m\n\u001B[1;32m   2889\u001B[0m \n\u001B[0;32m   (...)\u001B[0m\n\u001B[1;32m   2970\u001B[0m \u001B[38;5;124;03m>>> content = f.read()\u001B[39;00m\n\u001B[1;32m   2971\u001B[0m \u001B[38;5;124;03m\"\"\"\u001B[39;00m\n\u001B[1;32m   2972\u001B[0m \u001B[38;5;28;01mfrom\u001B[39;00m \u001B[38;5;21;01mpandas\u001B[39;00m\u001B[38;5;21;01m.\u001B[39;00m\u001B[38;5;21;01mio\u001B[39;00m\u001B[38;5;21;01m.\u001B[39;00m\u001B[38;5;21;01mparquet\u001B[39;00m \u001B[38;5;28;01mimport\u001B[39;00m to_parquet\n\u001B[0;32m-> 2974\u001B[0m \u001B[38;5;28;01mreturn\u001B[39;00m \u001B[43mto_parquet\u001B[49m\u001B[43m(\u001B[49m\n\u001B[1;32m   2975\u001B[0m \u001B[43m    \u001B[49m\u001B[38;5;28;43mself\u001B[39;49m\u001B[43m,\u001B[49m\n\u001B[1;32m   2976\u001B[0m \u001B[43m    \u001B[49m\u001B[43mpath\u001B[49m\u001B[43m,\u001B[49m\n\u001B[1;32m   2977\u001B[0m \u001B[43m    \u001B[49m\u001B[43mengine\u001B[49m\u001B[43m,\u001B[49m\n\u001B[1;32m   2978\u001B[0m \u001B[43m    \u001B[49m\u001B[43mcompression\u001B[49m\u001B[38;5;241;43m=\u001B[39;49m\u001B[43mcompression\u001B[49m\u001B[43m,\u001B[49m\n\u001B[1;32m   2979\u001B[0m \u001B[43m    \u001B[49m\u001B[43mindex\u001B[49m\u001B[38;5;241;43m=\u001B[39;49m\u001B[43mindex\u001B[49m\u001B[43m,\u001B[49m\n\u001B[1;32m   2980\u001B[0m \u001B[43m    \u001B[49m\u001B[43mpartition_cols\u001B[49m\u001B[38;5;241;43m=\u001B[39;49m\u001B[43mpartition_cols\u001B[49m\u001B[43m,\u001B[49m\n\u001B[1;32m   2981\u001B[0m \u001B[43m    \u001B[49m\u001B[43mstorage_options\u001B[49m\u001B[38;5;241;43m=\u001B[39;49m\u001B[43mstorage_options\u001B[49m\u001B[43m,\u001B[49m\n\u001B[1;32m   2982\u001B[0m \u001B[43m    \u001B[49m\u001B[38;5;241;43m*\u001B[39;49m\u001B[38;5;241;43m*\u001B[39;49m\u001B[43mkwargs\u001B[49m\u001B[43m,\u001B[49m\n\u001B[1;32m   2983\u001B[0m \u001B[43m\u001B[49m\u001B[43m)\u001B[49m\n",
      "File \u001B[0;32m~/spacebear/lib/python3.8/site-packages/pandas/io/parquet.py:430\u001B[0m, in \u001B[0;36mto_parquet\u001B[0;34m(df, path, engine, compression, index, storage_options, partition_cols, **kwargs)\u001B[0m\n\u001B[1;32m    426\u001B[0m impl \u001B[38;5;241m=\u001B[39m get_engine(engine)\n\u001B[1;32m    428\u001B[0m path_or_buf: FilePath \u001B[38;5;241m|\u001B[39m WriteBuffer[\u001B[38;5;28mbytes\u001B[39m] \u001B[38;5;241m=\u001B[39m io\u001B[38;5;241m.\u001B[39mBytesIO() \u001B[38;5;28;01mif\u001B[39;00m path \u001B[38;5;129;01mis\u001B[39;00m \u001B[38;5;28;01mNone\u001B[39;00m \u001B[38;5;28;01melse\u001B[39;00m path\n\u001B[0;32m--> 430\u001B[0m \u001B[43mimpl\u001B[49m\u001B[38;5;241;43m.\u001B[39;49m\u001B[43mwrite\u001B[49m\u001B[43m(\u001B[49m\n\u001B[1;32m    431\u001B[0m \u001B[43m    \u001B[49m\u001B[43mdf\u001B[49m\u001B[43m,\u001B[49m\n\u001B[1;32m    432\u001B[0m \u001B[43m    \u001B[49m\u001B[43mpath_or_buf\u001B[49m\u001B[43m,\u001B[49m\n\u001B[1;32m    433\u001B[0m \u001B[43m    \u001B[49m\u001B[43mcompression\u001B[49m\u001B[38;5;241;43m=\u001B[39;49m\u001B[43mcompression\u001B[49m\u001B[43m,\u001B[49m\n\u001B[1;32m    434\u001B[0m \u001B[43m    \u001B[49m\u001B[43mindex\u001B[49m\u001B[38;5;241;43m=\u001B[39;49m\u001B[43mindex\u001B[49m\u001B[43m,\u001B[49m\n\u001B[1;32m    435\u001B[0m \u001B[43m    \u001B[49m\u001B[43mpartition_cols\u001B[49m\u001B[38;5;241;43m=\u001B[39;49m\u001B[43mpartition_cols\u001B[49m\u001B[43m,\u001B[49m\n\u001B[1;32m    436\u001B[0m \u001B[43m    \u001B[49m\u001B[43mstorage_options\u001B[49m\u001B[38;5;241;43m=\u001B[39;49m\u001B[43mstorage_options\u001B[49m\u001B[43m,\u001B[49m\n\u001B[1;32m    437\u001B[0m \u001B[43m    \u001B[49m\u001B[38;5;241;43m*\u001B[39;49m\u001B[38;5;241;43m*\u001B[39;49m\u001B[43mkwargs\u001B[49m\u001B[43m,\u001B[49m\n\u001B[1;32m    438\u001B[0m \u001B[43m\u001B[49m\u001B[43m)\u001B[49m\n\u001B[1;32m    440\u001B[0m \u001B[38;5;28;01mif\u001B[39;00m path \u001B[38;5;129;01mis\u001B[39;00m \u001B[38;5;28;01mNone\u001B[39;00m:\n\u001B[1;32m    441\u001B[0m     \u001B[38;5;28;01massert\u001B[39;00m \u001B[38;5;28misinstance\u001B[39m(path_or_buf, io\u001B[38;5;241m.\u001B[39mBytesIO)\n",
      "File \u001B[0;32m~/spacebear/lib/python3.8/site-packages/pandas/io/parquet.py:168\u001B[0m, in \u001B[0;36mPyArrowImpl.write\u001B[0;34m(self, df, path, compression, index, storage_options, partition_cols, **kwargs)\u001B[0m\n\u001B[1;32m    158\u001B[0m \u001B[38;5;28;01mdef\u001B[39;00m \u001B[38;5;21mwrite\u001B[39m(\n\u001B[1;32m    159\u001B[0m     \u001B[38;5;28mself\u001B[39m,\n\u001B[1;32m    160\u001B[0m     df: DataFrame,\n\u001B[0;32m   (...)\u001B[0m\n\u001B[1;32m    166\u001B[0m     \u001B[38;5;241m*\u001B[39m\u001B[38;5;241m*\u001B[39mkwargs,\n\u001B[1;32m    167\u001B[0m ) \u001B[38;5;241m-\u001B[39m\u001B[38;5;241m>\u001B[39m \u001B[38;5;28;01mNone\u001B[39;00m:\n\u001B[0;32m--> 168\u001B[0m     \u001B[38;5;28;43mself\u001B[39;49m\u001B[38;5;241;43m.\u001B[39;49m\u001B[43mvalidate_dataframe\u001B[49m\u001B[43m(\u001B[49m\u001B[43mdf\u001B[49m\u001B[43m)\u001B[49m\n\u001B[1;32m    170\u001B[0m     from_pandas_kwargs: \u001B[38;5;28mdict\u001B[39m[\u001B[38;5;28mstr\u001B[39m, Any] \u001B[38;5;241m=\u001B[39m {\u001B[38;5;124m\"\u001B[39m\u001B[38;5;124mschema\u001B[39m\u001B[38;5;124m\"\u001B[39m: kwargs\u001B[38;5;241m.\u001B[39mpop(\u001B[38;5;124m\"\u001B[39m\u001B[38;5;124mschema\u001B[39m\u001B[38;5;124m\"\u001B[39m, \u001B[38;5;28;01mNone\u001B[39;00m)}\n\u001B[1;32m    171\u001B[0m     \u001B[38;5;28;01mif\u001B[39;00m index \u001B[38;5;129;01mis\u001B[39;00m \u001B[38;5;129;01mnot\u001B[39;00m \u001B[38;5;28;01mNone\u001B[39;00m:\n",
      "File \u001B[0;32m~/spacebear/lib/python3.8/site-packages/pandas/io/parquet.py:130\u001B[0m, in \u001B[0;36mBaseImpl.validate_dataframe\u001B[0;34m(df)\u001B[0m\n\u001B[1;32m    128\u001B[0m \u001B[38;5;28;01melse\u001B[39;00m:\n\u001B[1;32m    129\u001B[0m     \u001B[38;5;28;01mif\u001B[39;00m df\u001B[38;5;241m.\u001B[39mcolumns\u001B[38;5;241m.\u001B[39minferred_type \u001B[38;5;129;01mnot\u001B[39;00m \u001B[38;5;129;01min\u001B[39;00m {\u001B[38;5;124m\"\u001B[39m\u001B[38;5;124mstring\u001B[39m\u001B[38;5;124m\"\u001B[39m, \u001B[38;5;124m\"\u001B[39m\u001B[38;5;124mempty\u001B[39m\u001B[38;5;124m\"\u001B[39m}:\n\u001B[0;32m--> 130\u001B[0m         \u001B[38;5;28;01mraise\u001B[39;00m \u001B[38;5;167;01mValueError\u001B[39;00m(\u001B[38;5;124m\"\u001B[39m\u001B[38;5;124mparquet must have string column names\u001B[39m\u001B[38;5;124m\"\u001B[39m)\n\u001B[1;32m    132\u001B[0m \u001B[38;5;66;03m# index level names must be strings\u001B[39;00m\n\u001B[1;32m    133\u001B[0m valid_names \u001B[38;5;241m=\u001B[39m \u001B[38;5;28mall\u001B[39m(\n\u001B[1;32m    134\u001B[0m     \u001B[38;5;28misinstance\u001B[39m(name, \u001B[38;5;28mstr\u001B[39m) \u001B[38;5;28;01mfor\u001B[39;00m name \u001B[38;5;129;01min\u001B[39;00m df\u001B[38;5;241m.\u001B[39mindex\u001B[38;5;241m.\u001B[39mnames \u001B[38;5;28;01mif\u001B[39;00m name \u001B[38;5;129;01mis\u001B[39;00m \u001B[38;5;129;01mnot\u001B[39;00m \u001B[38;5;28;01mNone\u001B[39;00m\n\u001B[1;32m    135\u001B[0m )\n",
      "\u001B[0;31mValueError\u001B[0m: parquet must have string column names"
     ]
    }
   ],
   "source": [
    "embeddings_df.to_parquet('embedds.parquet')"
   ],
   "metadata": {
    "collapsed": false,
    "pycharm": {
     "name": "#%%\n"
    }
   }
  },
  {
   "cell_type": "code",
   "execution_count": 16,
   "outputs": [],
   "source": [
    "test_parquet = pd.read_parquet('embedds.parquet')"
   ],
   "metadata": {
    "collapsed": false,
    "pycharm": {
     "name": "#%%\n"
    }
   }
  },
  {
   "cell_type": "code",
   "execution_count": 19,
   "outputs": [
    {
     "data": {
      "text/plain": "array([ 0.02952424,  0.03973465,  0.51920575,  0.2742361 , -0.56496364,\n       -0.05899953,  0.15973805,  0.36940977, -0.28356385,  0.0317634 ,\n        0.0545611 , -0.4064595 , -0.30602503,  0.1400957 , -0.42900386,\n       -0.26042384, -0.35757917,  0.2937732 ,  0.6116437 , -0.30295795,\n        0.02860113, -0.09477986,  0.12079441,  0.5180067 , -0.20671937,\n       -0.1374913 , -0.19656545,  0.11080171,  0.00718931, -0.26903504,\n        0.16081983, -0.15745698,  0.16667393, -0.38068062, -0.07165289,\n        0.09804589,  0.06312373, -0.15158296,  0.19063157,  0.6958586 ,\n        0.03368482,  0.130759  ,  0.17316923, -0.32077733, -0.0483497 ,\n        0.23173176, -0.32908714, -0.07346074, -0.39619485,  0.19769314],\n      dtype=float32)"
     },
     "execution_count": 19,
     "metadata": {},
     "output_type": "execute_result"
    }
   ],
   "source": [
    "test_parquet.loc['В'].values"
   ],
   "metadata": {
    "collapsed": false,
    "pycharm": {
     "name": "#%%\n"
    }
   }
  },
  {
   "cell_type": "code",
   "execution_count": 10,
   "outputs": [],
   "source": [
    "chunk_size = int(embeddings_df.shape[0] / 40)"
   ],
   "metadata": {
    "collapsed": false,
    "pycharm": {
     "name": "#%%\n"
    }
   }
  },
  {
   "cell_type": "code",
   "execution_count": 13,
   "outputs": [],
   "source": [
    "import pandas as pd\n",
    "\n",
    "url=\"https://storage.yandexcloud.net/spacebear/chunk_1.csv\"\n",
    "c=pd.read_csv(url)"
   ],
   "metadata": {
    "collapsed": false,
    "pycharm": {
     "name": "#%%\n"
    }
   }
  },
  {
   "cell_type": "code",
   "execution_count": 23,
   "outputs": [],
   "source": [
    "import pandas as pd\n",
    "\n",
    "url=\"https://storage.yandexcloud.net/spacebear/embedds.parquet\"\n",
    "c=pd.read_parquet(url)"
   ],
   "metadata": {
    "collapsed": false,
    "pycharm": {
     "name": "#%%\n"
    }
   }
  },
  {
   "cell_type": "code",
   "execution_count": 24,
   "outputs": [
    {
     "data": {
      "text/plain": "             0         1         2         3         4         5         6  \\\n,     0.165771 -0.517288  0.419655 -0.051957 -0.087263 -0.021959  0.089717   \n.     0.383446  0.011442  0.860179  0.129129 -0.266771 -0.042965  0.268558   \nи    -0.010855 -0.695681  0.137943  0.078002 -0.112360  0.173395  0.444733   \nв     0.072291 -0.373457  0.123495  0.219691 -0.415449  0.054333 -0.016865   \n</s>  0.804123 -0.131928  1.406710  0.330419 -0.397396 -0.131128  0.353531   \n\n             7         8         9  ...        40        41        42  \\\n,     0.167934 -0.119870 -0.020433  ... -0.009044 -0.003489  0.187495   \n.     0.321658 -0.243419 -0.057822  ...  0.044906  0.143004  0.122937   \nи     0.114993  0.025454 -0.001267  ... -0.142463 -0.062530  0.015674   \nв     0.366148 -0.209039  0.168200  ... -0.066749  0.003132  0.224285   \n</s>  0.324826 -0.467777 -0.049522  ...  0.156702  0.000512  0.320597   \n\n            43        44        45        46        47        48        49  \n,    -0.144960 -0.020137  0.395344 -0.233079  0.025705 -0.408518 -0.224592  \n.    -0.475062  0.100880  0.235484 -0.244221 -0.004340 -0.451731  0.027196  \nи    -0.106922 -0.168451  0.215671 -0.326548  0.115889 -0.438935 -0.157844  \nв    -0.298141 -0.052664  0.423817 -0.368453 -0.214593 -0.278668  0.242669  \n</s> -1.087240 -0.610243  0.274437 -0.429224  0.089688 -0.982359  0.325405  \n\n[5 rows x 50 columns]",
      "text/html": "<div>\n<style scoped>\n    .dataframe tbody tr th:only-of-type {\n        vertical-align: middle;\n    }\n\n    .dataframe tbody tr th {\n        vertical-align: top;\n    }\n\n    .dataframe thead th {\n        text-align: right;\n    }\n</style>\n<table border=\"1\" class=\"dataframe\">\n  <thead>\n    <tr style=\"text-align: right;\">\n      <th></th>\n      <th>0</th>\n      <th>1</th>\n      <th>2</th>\n      <th>3</th>\n      <th>4</th>\n      <th>5</th>\n      <th>6</th>\n      <th>7</th>\n      <th>8</th>\n      <th>9</th>\n      <th>...</th>\n      <th>40</th>\n      <th>41</th>\n      <th>42</th>\n      <th>43</th>\n      <th>44</th>\n      <th>45</th>\n      <th>46</th>\n      <th>47</th>\n      <th>48</th>\n      <th>49</th>\n    </tr>\n  </thead>\n  <tbody>\n    <tr>\n      <th>,</th>\n      <td>0.165771</td>\n      <td>-0.517288</td>\n      <td>0.419655</td>\n      <td>-0.051957</td>\n      <td>-0.087263</td>\n      <td>-0.021959</td>\n      <td>0.089717</td>\n      <td>0.167934</td>\n      <td>-0.119870</td>\n      <td>-0.020433</td>\n      <td>...</td>\n      <td>-0.009044</td>\n      <td>-0.003489</td>\n      <td>0.187495</td>\n      <td>-0.144960</td>\n      <td>-0.020137</td>\n      <td>0.395344</td>\n      <td>-0.233079</td>\n      <td>0.025705</td>\n      <td>-0.408518</td>\n      <td>-0.224592</td>\n    </tr>\n    <tr>\n      <th>.</th>\n      <td>0.383446</td>\n      <td>0.011442</td>\n      <td>0.860179</td>\n      <td>0.129129</td>\n      <td>-0.266771</td>\n      <td>-0.042965</td>\n      <td>0.268558</td>\n      <td>0.321658</td>\n      <td>-0.243419</td>\n      <td>-0.057822</td>\n      <td>...</td>\n      <td>0.044906</td>\n      <td>0.143004</td>\n      <td>0.122937</td>\n      <td>-0.475062</td>\n      <td>0.100880</td>\n      <td>0.235484</td>\n      <td>-0.244221</td>\n      <td>-0.004340</td>\n      <td>-0.451731</td>\n      <td>0.027196</td>\n    </tr>\n    <tr>\n      <th>и</th>\n      <td>-0.010855</td>\n      <td>-0.695681</td>\n      <td>0.137943</td>\n      <td>0.078002</td>\n      <td>-0.112360</td>\n      <td>0.173395</td>\n      <td>0.444733</td>\n      <td>0.114993</td>\n      <td>0.025454</td>\n      <td>-0.001267</td>\n      <td>...</td>\n      <td>-0.142463</td>\n      <td>-0.062530</td>\n      <td>0.015674</td>\n      <td>-0.106922</td>\n      <td>-0.168451</td>\n      <td>0.215671</td>\n      <td>-0.326548</td>\n      <td>0.115889</td>\n      <td>-0.438935</td>\n      <td>-0.157844</td>\n    </tr>\n    <tr>\n      <th>в</th>\n      <td>0.072291</td>\n      <td>-0.373457</td>\n      <td>0.123495</td>\n      <td>0.219691</td>\n      <td>-0.415449</td>\n      <td>0.054333</td>\n      <td>-0.016865</td>\n      <td>0.366148</td>\n      <td>-0.209039</td>\n      <td>0.168200</td>\n      <td>...</td>\n      <td>-0.066749</td>\n      <td>0.003132</td>\n      <td>0.224285</td>\n      <td>-0.298141</td>\n      <td>-0.052664</td>\n      <td>0.423817</td>\n      <td>-0.368453</td>\n      <td>-0.214593</td>\n      <td>-0.278668</td>\n      <td>0.242669</td>\n    </tr>\n    <tr>\n      <th>&lt;/s&gt;</th>\n      <td>0.804123</td>\n      <td>-0.131928</td>\n      <td>1.406710</td>\n      <td>0.330419</td>\n      <td>-0.397396</td>\n      <td>-0.131128</td>\n      <td>0.353531</td>\n      <td>0.324826</td>\n      <td>-0.467777</td>\n      <td>-0.049522</td>\n      <td>...</td>\n      <td>0.156702</td>\n      <td>0.000512</td>\n      <td>0.320597</td>\n      <td>-1.087240</td>\n      <td>-0.610243</td>\n      <td>0.274437</td>\n      <td>-0.429224</td>\n      <td>0.089688</td>\n      <td>-0.982359</td>\n      <td>0.325405</td>\n    </tr>\n  </tbody>\n</table>\n<p>5 rows × 50 columns</p>\n</div>"
     },
     "execution_count": 24,
     "metadata": {},
     "output_type": "execute_result"
    }
   ],
   "source": [
    "c.head()"
   ],
   "metadata": {
    "collapsed": false,
    "pycharm": {
     "name": "#%%\n"
    }
   }
  },
  {
   "cell_type": "code",
   "execution_count": null,
   "outputs": [],
   "source": [
    "c"
   ],
   "metadata": {
    "collapsed": false,
    "pycharm": {
     "name": "#%%\n"
    }
   }
  },
  {
   "cell_type": "code",
   "execution_count": 12,
   "outputs": [
    {
     "name": "stderr",
     "output_type": "stream",
     "text": [
      " 12%|█▎        | 5/40 [05:05<35:39, 61.13s/it]\n"
     ]
    },
    {
     "ename": "KeyboardInterrupt",
     "evalue": "",
     "output_type": "error",
     "traceback": [
      "\u001B[0;31m---------------------------------------------------------------------------\u001B[0m",
      "\u001B[0;31mKeyError\u001B[0m                                  Traceback (most recent call last)",
      "File \u001B[0;32m/Library/Frameworks/Python.framework/Versions/3.8/lib/python3.8/re.py:294\u001B[0m, in \u001B[0;36m_compile\u001B[0;34m(pattern, flags)\u001B[0m\n\u001B[1;32m    293\u001B[0m \u001B[38;5;28;01mtry\u001B[39;00m:\n\u001B[0;32m--> 294\u001B[0m     \u001B[38;5;28;01mreturn\u001B[39;00m \u001B[43m_cache\u001B[49m\u001B[43m[\u001B[49m\u001B[38;5;28;43mtype\u001B[39;49m\u001B[43m(\u001B[49m\u001B[43mpattern\u001B[49m\u001B[43m)\u001B[49m\u001B[43m,\u001B[49m\u001B[43m \u001B[49m\u001B[43mpattern\u001B[49m\u001B[43m,\u001B[49m\u001B[43m \u001B[49m\u001B[43mflags\u001B[49m\u001B[43m]\u001B[49m\n\u001B[1;32m    295\u001B[0m \u001B[38;5;28;01mexcept\u001B[39;00m \u001B[38;5;167;01mKeyError\u001B[39;00m:\n",
      "\u001B[0;31mKeyError\u001B[0m: (<class 're.Pattern'>, re.compile('^\\\\s*[\\\\+-]?[0-9]+\\\\.[0-9]*$'), 0)",
      "\nDuring handling of the above exception, another exception occurred:\n",
      "\u001B[0;31mKeyboardInterrupt\u001B[0m                         Traceback (most recent call last)",
      "Cell \u001B[0;32mIn [12], line 3\u001B[0m\n\u001B[1;32m      1\u001B[0m \u001B[38;5;28;01mfor\u001B[39;00m i \u001B[38;5;129;01min\u001B[39;00m tqdm(\u001B[38;5;28mrange\u001B[39m(\u001B[38;5;241m40\u001B[39m)):\n\u001B[1;32m      2\u001B[0m     selected_df \u001B[38;5;241m=\u001B[39m embeddings_df\u001B[38;5;241m.\u001B[39miloc[i \u001B[38;5;241m*\u001B[39m chunk_size : (i \u001B[38;5;241m+\u001B[39m \u001B[38;5;241m1\u001B[39m) \u001B[38;5;241m*\u001B[39m chunk_size]\n\u001B[0;32m----> 3\u001B[0m     \u001B[43mselected_df\u001B[49m\u001B[38;5;241;43m.\u001B[39;49m\u001B[43mto_html\u001B[49m\u001B[43m(\u001B[49m\u001B[38;5;124;43mf\u001B[39;49m\u001B[38;5;124;43m\"\u001B[39;49m\u001B[38;5;124;43mchunk_\u001B[39;49m\u001B[38;5;132;43;01m{\u001B[39;49;00m\u001B[43mi\u001B[49m\u001B[38;5;132;43;01m}\u001B[39;49;00m\u001B[38;5;124;43m.html\u001B[39;49m\u001B[38;5;124;43m\"\u001B[39;49m\u001B[43m)\u001B[49m\n",
      "File \u001B[0;32m~/spacebear/lib/python3.8/site-packages/pandas/core/frame.py:3216\u001B[0m, in \u001B[0;36mDataFrame.to_html\u001B[0;34m(self, buf, columns, col_space, header, index, na_rep, formatters, float_format, sparsify, index_names, justify, max_rows, max_cols, show_dimensions, decimal, bold_rows, classes, escape, notebook, border, table_id, render_links, encoding)\u001B[0m\n\u001B[1;32m   3196\u001B[0m formatter \u001B[38;5;241m=\u001B[39m fmt\u001B[38;5;241m.\u001B[39mDataFrameFormatter(\n\u001B[1;32m   3197\u001B[0m     \u001B[38;5;28mself\u001B[39m,\n\u001B[1;32m   3198\u001B[0m     columns\u001B[38;5;241m=\u001B[39mcolumns,\n\u001B[0;32m   (...)\u001B[0m\n\u001B[1;32m   3213\u001B[0m     show_dimensions\u001B[38;5;241m=\u001B[39mshow_dimensions,\n\u001B[1;32m   3214\u001B[0m )\n\u001B[1;32m   3215\u001B[0m \u001B[38;5;66;03m# TODO: a generic formatter wld b in DataFrameFormatter\u001B[39;00m\n\u001B[0;32m-> 3216\u001B[0m \u001B[38;5;28;01mreturn\u001B[39;00m \u001B[43mfmt\u001B[49m\u001B[38;5;241;43m.\u001B[39;49m\u001B[43mDataFrameRenderer\u001B[49m\u001B[43m(\u001B[49m\u001B[43mformatter\u001B[49m\u001B[43m)\u001B[49m\u001B[38;5;241;43m.\u001B[39;49m\u001B[43mto_html\u001B[49m\u001B[43m(\u001B[49m\n\u001B[1;32m   3217\u001B[0m \u001B[43m    \u001B[49m\u001B[43mbuf\u001B[49m\u001B[38;5;241;43m=\u001B[39;49m\u001B[43mbuf\u001B[49m\u001B[43m,\u001B[49m\n\u001B[1;32m   3218\u001B[0m \u001B[43m    \u001B[49m\u001B[43mclasses\u001B[49m\u001B[38;5;241;43m=\u001B[39;49m\u001B[43mclasses\u001B[49m\u001B[43m,\u001B[49m\n\u001B[1;32m   3219\u001B[0m \u001B[43m    \u001B[49m\u001B[43mnotebook\u001B[49m\u001B[38;5;241;43m=\u001B[39;49m\u001B[43mnotebook\u001B[49m\u001B[43m,\u001B[49m\n\u001B[1;32m   3220\u001B[0m \u001B[43m    \u001B[49m\u001B[43mborder\u001B[49m\u001B[38;5;241;43m=\u001B[39;49m\u001B[43mborder\u001B[49m\u001B[43m,\u001B[49m\n\u001B[1;32m   3221\u001B[0m \u001B[43m    \u001B[49m\u001B[43mencoding\u001B[49m\u001B[38;5;241;43m=\u001B[39;49m\u001B[43mencoding\u001B[49m\u001B[43m,\u001B[49m\n\u001B[1;32m   3222\u001B[0m \u001B[43m    \u001B[49m\u001B[43mtable_id\u001B[49m\u001B[38;5;241;43m=\u001B[39;49m\u001B[43mtable_id\u001B[49m\u001B[43m,\u001B[49m\n\u001B[1;32m   3223\u001B[0m \u001B[43m    \u001B[49m\u001B[43mrender_links\u001B[49m\u001B[38;5;241;43m=\u001B[39;49m\u001B[43mrender_links\u001B[49m\u001B[43m,\u001B[49m\n\u001B[1;32m   3224\u001B[0m \u001B[43m\u001B[49m\u001B[43m)\u001B[49m\n",
      "File \u001B[0;32m~/spacebear/lib/python3.8/site-packages/pandas/io/formats/format.py:1110\u001B[0m, in \u001B[0;36mDataFrameRenderer.to_html\u001B[0;34m(self, buf, encoding, classes, notebook, border, table_id, render_links)\u001B[0m\n\u001B[1;32m   1101\u001B[0m Klass \u001B[38;5;241m=\u001B[39m NotebookFormatter \u001B[38;5;28;01mif\u001B[39;00m notebook \u001B[38;5;28;01melse\u001B[39;00m HTMLFormatter\n\u001B[1;32m   1103\u001B[0m html_formatter \u001B[38;5;241m=\u001B[39m Klass(\n\u001B[1;32m   1104\u001B[0m     \u001B[38;5;28mself\u001B[39m\u001B[38;5;241m.\u001B[39mfmt,\n\u001B[1;32m   1105\u001B[0m     classes\u001B[38;5;241m=\u001B[39mclasses,\n\u001B[0;32m   (...)\u001B[0m\n\u001B[1;32m   1108\u001B[0m     render_links\u001B[38;5;241m=\u001B[39mrender_links,\n\u001B[1;32m   1109\u001B[0m )\n\u001B[0;32m-> 1110\u001B[0m string \u001B[38;5;241m=\u001B[39m \u001B[43mhtml_formatter\u001B[49m\u001B[38;5;241;43m.\u001B[39;49m\u001B[43mto_string\u001B[49m\u001B[43m(\u001B[49m\u001B[43m)\u001B[49m\n\u001B[1;32m   1111\u001B[0m \u001B[38;5;28;01mreturn\u001B[39;00m save_to_buffer(string, buf\u001B[38;5;241m=\u001B[39mbuf, encoding\u001B[38;5;241m=\u001B[39mencoding)\n",
      "File \u001B[0;32m~/spacebear/lib/python3.8/site-packages/pandas/io/formats/html.py:77\u001B[0m, in \u001B[0;36mHTMLFormatter.to_string\u001B[0;34m(self)\u001B[0m\n\u001B[1;32m     76\u001B[0m \u001B[38;5;28;01mdef\u001B[39;00m \u001B[38;5;21mto_string\u001B[39m(\u001B[38;5;28mself\u001B[39m) \u001B[38;5;241m-\u001B[39m\u001B[38;5;241m>\u001B[39m \u001B[38;5;28mstr\u001B[39m:\n\u001B[0;32m---> 77\u001B[0m     lines \u001B[38;5;241m=\u001B[39m \u001B[38;5;28;43mself\u001B[39;49m\u001B[38;5;241;43m.\u001B[39;49m\u001B[43mrender\u001B[49m\u001B[43m(\u001B[49m\u001B[43m)\u001B[49m\n\u001B[1;32m     78\u001B[0m     \u001B[38;5;28;01mif\u001B[39;00m \u001B[38;5;28many\u001B[39m(\u001B[38;5;28misinstance\u001B[39m(x, \u001B[38;5;28mstr\u001B[39m) \u001B[38;5;28;01mfor\u001B[39;00m x \u001B[38;5;129;01min\u001B[39;00m lines):\n\u001B[1;32m     79\u001B[0m         lines \u001B[38;5;241m=\u001B[39m [\u001B[38;5;28mstr\u001B[39m(x) \u001B[38;5;28;01mfor\u001B[39;00m x \u001B[38;5;129;01min\u001B[39;00m lines]\n",
      "File \u001B[0;32m~/spacebear/lib/python3.8/site-packages/pandas/io/formats/html.py:83\u001B[0m, in \u001B[0;36mHTMLFormatter.render\u001B[0;34m(self)\u001B[0m\n\u001B[1;32m     82\u001B[0m \u001B[38;5;28;01mdef\u001B[39;00m \u001B[38;5;21mrender\u001B[39m(\u001B[38;5;28mself\u001B[39m) \u001B[38;5;241m-\u001B[39m\u001B[38;5;241m>\u001B[39m \u001B[38;5;28mlist\u001B[39m[\u001B[38;5;28mstr\u001B[39m]:\n\u001B[0;32m---> 83\u001B[0m     \u001B[38;5;28;43mself\u001B[39;49m\u001B[38;5;241;43m.\u001B[39;49m\u001B[43m_write_table\u001B[49m\u001B[43m(\u001B[49m\u001B[43m)\u001B[49m\n\u001B[1;32m     85\u001B[0m     \u001B[38;5;28;01mif\u001B[39;00m \u001B[38;5;28mself\u001B[39m\u001B[38;5;241m.\u001B[39mshould_show_dimensions:\n\u001B[1;32m     86\u001B[0m         by \u001B[38;5;241m=\u001B[39m \u001B[38;5;28mchr\u001B[39m(\u001B[38;5;241m215\u001B[39m)  \u001B[38;5;66;03m# ×\u001B[39;00m\n",
      "File \u001B[0;32m~/spacebear/lib/python3.8/site-packages/pandas/io/formats/html.py:258\u001B[0m, in \u001B[0;36mHTMLFormatter._write_table\u001B[0;34m(self, indent)\u001B[0m\n\u001B[1;32m    255\u001B[0m \u001B[38;5;28;01mif\u001B[39;00m \u001B[38;5;28mself\u001B[39m\u001B[38;5;241m.\u001B[39mfmt\u001B[38;5;241m.\u001B[39mheader \u001B[38;5;129;01mor\u001B[39;00m \u001B[38;5;28mself\u001B[39m\u001B[38;5;241m.\u001B[39mshow_row_idx_names:\n\u001B[1;32m    256\u001B[0m     \u001B[38;5;28mself\u001B[39m\u001B[38;5;241m.\u001B[39m_write_header(indent \u001B[38;5;241m+\u001B[39m \u001B[38;5;28mself\u001B[39m\u001B[38;5;241m.\u001B[39mindent_delta)\n\u001B[0;32m--> 258\u001B[0m \u001B[38;5;28;43mself\u001B[39;49m\u001B[38;5;241;43m.\u001B[39;49m\u001B[43m_write_body\u001B[49m\u001B[43m(\u001B[49m\u001B[43mindent\u001B[49m\u001B[43m \u001B[49m\u001B[38;5;241;43m+\u001B[39;49m\u001B[43m \u001B[49m\u001B[38;5;28;43mself\u001B[39;49m\u001B[38;5;241;43m.\u001B[39;49m\u001B[43mindent_delta\u001B[49m\u001B[43m)\u001B[49m\n\u001B[1;32m    260\u001B[0m \u001B[38;5;28mself\u001B[39m\u001B[38;5;241m.\u001B[39mwrite(\u001B[38;5;124m\"\u001B[39m\u001B[38;5;124m</table>\u001B[39m\u001B[38;5;124m\"\u001B[39m, indent)\n",
      "File \u001B[0;32m~/spacebear/lib/python3.8/site-packages/pandas/io/formats/html.py:406\u001B[0m, in \u001B[0;36mHTMLFormatter._write_body\u001B[0;34m(self, indent)\u001B[0m\n\u001B[1;32m    404\u001B[0m \u001B[38;5;28;01mdef\u001B[39;00m \u001B[38;5;21m_write_body\u001B[39m(\u001B[38;5;28mself\u001B[39m, indent: \u001B[38;5;28mint\u001B[39m) \u001B[38;5;241m-\u001B[39m\u001B[38;5;241m>\u001B[39m \u001B[38;5;28;01mNone\u001B[39;00m:\n\u001B[1;32m    405\u001B[0m     \u001B[38;5;28mself\u001B[39m\u001B[38;5;241m.\u001B[39mwrite(\u001B[38;5;124m\"\u001B[39m\u001B[38;5;124m<tbody>\u001B[39m\u001B[38;5;124m\"\u001B[39m, indent)\n\u001B[0;32m--> 406\u001B[0m     fmt_values \u001B[38;5;241m=\u001B[39m \u001B[38;5;28;43mself\u001B[39;49m\u001B[38;5;241;43m.\u001B[39;49m\u001B[43m_get_formatted_values\u001B[49m\u001B[43m(\u001B[49m\u001B[43m)\u001B[49m\n\u001B[1;32m    408\u001B[0m     \u001B[38;5;66;03m# write values\u001B[39;00m\n\u001B[1;32m    409\u001B[0m     \u001B[38;5;28;01mif\u001B[39;00m \u001B[38;5;28mself\u001B[39m\u001B[38;5;241m.\u001B[39mfmt\u001B[38;5;241m.\u001B[39mindex \u001B[38;5;129;01mand\u001B[39;00m \u001B[38;5;28misinstance\u001B[39m(\u001B[38;5;28mself\u001B[39m\u001B[38;5;241m.\u001B[39mframe\u001B[38;5;241m.\u001B[39mindex, MultiIndex):\n",
      "File \u001B[0;32m~/spacebear/lib/python3.8/site-packages/pandas/io/formats/html.py:401\u001B[0m, in \u001B[0;36mHTMLFormatter._get_formatted_values\u001B[0;34m(self)\u001B[0m\n\u001B[1;32m    399\u001B[0m \u001B[38;5;28;01mdef\u001B[39;00m \u001B[38;5;21m_get_formatted_values\u001B[39m(\u001B[38;5;28mself\u001B[39m) \u001B[38;5;241m-\u001B[39m\u001B[38;5;241m>\u001B[39m \u001B[38;5;28mdict\u001B[39m[\u001B[38;5;28mint\u001B[39m, \u001B[38;5;28mlist\u001B[39m[\u001B[38;5;28mstr\u001B[39m]]:\n\u001B[1;32m    400\u001B[0m     \u001B[38;5;28;01mwith\u001B[39;00m option_context(\u001B[38;5;124m\"\u001B[39m\u001B[38;5;124mdisplay.max_colwidth\u001B[39m\u001B[38;5;124m\"\u001B[39m, \u001B[38;5;28;01mNone\u001B[39;00m):\n\u001B[0;32m--> 401\u001B[0m         fmt_values \u001B[38;5;241m=\u001B[39m {i: \u001B[38;5;28mself\u001B[39m\u001B[38;5;241m.\u001B[39mfmt\u001B[38;5;241m.\u001B[39mformat_col(i) \u001B[38;5;28;01mfor\u001B[39;00m i \u001B[38;5;129;01min\u001B[39;00m \u001B[38;5;28mrange\u001B[39m(\u001B[38;5;28mself\u001B[39m\u001B[38;5;241m.\u001B[39mncols)}\n\u001B[1;32m    402\u001B[0m     \u001B[38;5;28;01mreturn\u001B[39;00m fmt_values\n",
      "File \u001B[0;32m~/spacebear/lib/python3.8/site-packages/pandas/io/formats/html.py:401\u001B[0m, in \u001B[0;36m<dictcomp>\u001B[0;34m(.0)\u001B[0m\n\u001B[1;32m    399\u001B[0m \u001B[38;5;28;01mdef\u001B[39;00m \u001B[38;5;21m_get_formatted_values\u001B[39m(\u001B[38;5;28mself\u001B[39m) \u001B[38;5;241m-\u001B[39m\u001B[38;5;241m>\u001B[39m \u001B[38;5;28mdict\u001B[39m[\u001B[38;5;28mint\u001B[39m, \u001B[38;5;28mlist\u001B[39m[\u001B[38;5;28mstr\u001B[39m]]:\n\u001B[1;32m    400\u001B[0m     \u001B[38;5;28;01mwith\u001B[39;00m option_context(\u001B[38;5;124m\"\u001B[39m\u001B[38;5;124mdisplay.max_colwidth\u001B[39m\u001B[38;5;124m\"\u001B[39m, \u001B[38;5;28;01mNone\u001B[39;00m):\n\u001B[0;32m--> 401\u001B[0m         fmt_values \u001B[38;5;241m=\u001B[39m {i: \u001B[38;5;28;43mself\u001B[39;49m\u001B[38;5;241;43m.\u001B[39;49m\u001B[43mfmt\u001B[49m\u001B[38;5;241;43m.\u001B[39;49m\u001B[43mformat_col\u001B[49m\u001B[43m(\u001B[49m\u001B[43mi\u001B[49m\u001B[43m)\u001B[49m \u001B[38;5;28;01mfor\u001B[39;00m i \u001B[38;5;129;01min\u001B[39;00m \u001B[38;5;28mrange\u001B[39m(\u001B[38;5;28mself\u001B[39m\u001B[38;5;241m.\u001B[39mncols)}\n\u001B[1;32m    402\u001B[0m     \u001B[38;5;28;01mreturn\u001B[39;00m fmt_values\n",
      "File \u001B[0;32m~/spacebear/lib/python3.8/site-packages/pandas/io/formats/format.py:897\u001B[0m, in \u001B[0;36mDataFrameFormatter.format_col\u001B[0;34m(self, i)\u001B[0m\n\u001B[1;32m    895\u001B[0m frame \u001B[38;5;241m=\u001B[39m \u001B[38;5;28mself\u001B[39m\u001B[38;5;241m.\u001B[39mtr_frame\n\u001B[1;32m    896\u001B[0m formatter \u001B[38;5;241m=\u001B[39m \u001B[38;5;28mself\u001B[39m\u001B[38;5;241m.\u001B[39m_get_formatter(i)\n\u001B[0;32m--> 897\u001B[0m \u001B[38;5;28;01mreturn\u001B[39;00m \u001B[43mformat_array\u001B[49m\u001B[43m(\u001B[49m\n\u001B[1;32m    898\u001B[0m \u001B[43m    \u001B[49m\u001B[43mframe\u001B[49m\u001B[38;5;241;43m.\u001B[39;49m\u001B[43miloc\u001B[49m\u001B[43m[\u001B[49m\u001B[43m:\u001B[49m\u001B[43m,\u001B[49m\u001B[43m \u001B[49m\u001B[43mi\u001B[49m\u001B[43m]\u001B[49m\u001B[38;5;241;43m.\u001B[39;49m\u001B[43m_values\u001B[49m\u001B[43m,\u001B[49m\n\u001B[1;32m    899\u001B[0m \u001B[43m    \u001B[49m\u001B[43mformatter\u001B[49m\u001B[43m,\u001B[49m\n\u001B[1;32m    900\u001B[0m \u001B[43m    \u001B[49m\u001B[43mfloat_format\u001B[49m\u001B[38;5;241;43m=\u001B[39;49m\u001B[38;5;28;43mself\u001B[39;49m\u001B[38;5;241;43m.\u001B[39;49m\u001B[43mfloat_format\u001B[49m\u001B[43m,\u001B[49m\n\u001B[1;32m    901\u001B[0m \u001B[43m    \u001B[49m\u001B[43mna_rep\u001B[49m\u001B[38;5;241;43m=\u001B[39;49m\u001B[38;5;28;43mself\u001B[39;49m\u001B[38;5;241;43m.\u001B[39;49m\u001B[43mna_rep\u001B[49m\u001B[43m,\u001B[49m\n\u001B[1;32m    902\u001B[0m \u001B[43m    \u001B[49m\u001B[43mspace\u001B[49m\u001B[38;5;241;43m=\u001B[39;49m\u001B[38;5;28;43mself\u001B[39;49m\u001B[38;5;241;43m.\u001B[39;49m\u001B[43mcol_space\u001B[49m\u001B[38;5;241;43m.\u001B[39;49m\u001B[43mget\u001B[49m\u001B[43m(\u001B[49m\u001B[43mframe\u001B[49m\u001B[38;5;241;43m.\u001B[39;49m\u001B[43mcolumns\u001B[49m\u001B[43m[\u001B[49m\u001B[43mi\u001B[49m\u001B[43m]\u001B[49m\u001B[43m)\u001B[49m\u001B[43m,\u001B[49m\n\u001B[1;32m    903\u001B[0m \u001B[43m    \u001B[49m\u001B[43mdecimal\u001B[49m\u001B[38;5;241;43m=\u001B[39;49m\u001B[38;5;28;43mself\u001B[39;49m\u001B[38;5;241;43m.\u001B[39;49m\u001B[43mdecimal\u001B[49m\u001B[43m,\u001B[49m\n\u001B[1;32m    904\u001B[0m \u001B[43m    \u001B[49m\u001B[43mleading_space\u001B[49m\u001B[38;5;241;43m=\u001B[39;49m\u001B[38;5;28;43mself\u001B[39;49m\u001B[38;5;241;43m.\u001B[39;49m\u001B[43mindex\u001B[49m\u001B[43m,\u001B[49m\n\u001B[1;32m    905\u001B[0m \u001B[43m\u001B[49m\u001B[43m)\u001B[49m\n",
      "File \u001B[0;32m~/spacebear/lib/python3.8/site-packages/pandas/io/formats/format.py:1328\u001B[0m, in \u001B[0;36mformat_array\u001B[0;34m(values, formatter, float_format, na_rep, digits, space, justify, decimal, leading_space, quoting)\u001B[0m\n\u001B[1;32m   1313\u001B[0m     digits \u001B[38;5;241m=\u001B[39m get_option(\u001B[38;5;124m\"\u001B[39m\u001B[38;5;124mdisplay.precision\u001B[39m\u001B[38;5;124m\"\u001B[39m)\n\u001B[1;32m   1315\u001B[0m fmt_obj \u001B[38;5;241m=\u001B[39m fmt_klass(\n\u001B[1;32m   1316\u001B[0m     values,\n\u001B[1;32m   1317\u001B[0m     digits\u001B[38;5;241m=\u001B[39mdigits,\n\u001B[0;32m   (...)\u001B[0m\n\u001B[1;32m   1325\u001B[0m     quoting\u001B[38;5;241m=\u001B[39mquoting,\n\u001B[1;32m   1326\u001B[0m )\n\u001B[0;32m-> 1328\u001B[0m \u001B[38;5;28;01mreturn\u001B[39;00m \u001B[43mfmt_obj\u001B[49m\u001B[38;5;241;43m.\u001B[39;49m\u001B[43mget_result\u001B[49m\u001B[43m(\u001B[49m\u001B[43m)\u001B[49m\n",
      "File \u001B[0;32m~/spacebear/lib/python3.8/site-packages/pandas/io/formats/format.py:1359\u001B[0m, in \u001B[0;36mGenericArrayFormatter.get_result\u001B[0;34m(self)\u001B[0m\n\u001B[1;32m   1358\u001B[0m \u001B[38;5;28;01mdef\u001B[39;00m \u001B[38;5;21mget_result\u001B[39m(\u001B[38;5;28mself\u001B[39m) \u001B[38;5;241m-\u001B[39m\u001B[38;5;241m>\u001B[39m \u001B[38;5;28mlist\u001B[39m[\u001B[38;5;28mstr\u001B[39m]:\n\u001B[0;32m-> 1359\u001B[0m     fmt_values \u001B[38;5;241m=\u001B[39m \u001B[38;5;28;43mself\u001B[39;49m\u001B[38;5;241;43m.\u001B[39;49m\u001B[43m_format_strings\u001B[49m\u001B[43m(\u001B[49m\u001B[43m)\u001B[49m\n\u001B[1;32m   1360\u001B[0m     \u001B[38;5;28;01mreturn\u001B[39;00m _make_fixed_width(fmt_values, \u001B[38;5;28mself\u001B[39m\u001B[38;5;241m.\u001B[39mjustify)\n",
      "File \u001B[0;32m~/spacebear/lib/python3.8/site-packages/pandas/io/formats/format.py:1606\u001B[0m, in \u001B[0;36mFloatArrayFormatter._format_strings\u001B[0;34m(self)\u001B[0m\n\u001B[1;32m   1605\u001B[0m \u001B[38;5;28;01mdef\u001B[39;00m \u001B[38;5;21m_format_strings\u001B[39m(\u001B[38;5;28mself\u001B[39m) \u001B[38;5;241m-\u001B[39m\u001B[38;5;241m>\u001B[39m \u001B[38;5;28mlist\u001B[39m[\u001B[38;5;28mstr\u001B[39m]:\n\u001B[0;32m-> 1606\u001B[0m     \u001B[38;5;28;01mreturn\u001B[39;00m \u001B[38;5;28mlist\u001B[39m(\u001B[38;5;28;43mself\u001B[39;49m\u001B[38;5;241;43m.\u001B[39;49m\u001B[43mget_result_as_array\u001B[49m\u001B[43m(\u001B[49m\u001B[43m)\u001B[49m)\n",
      "File \u001B[0;32m~/spacebear/lib/python3.8/site-packages/pandas/io/formats/format.py:1570\u001B[0m, in \u001B[0;36mFloatArrayFormatter.get_result_as_array\u001B[0;34m(self)\u001B[0m\n\u001B[1;32m   1567\u001B[0m \u001B[38;5;28;01melse\u001B[39;00m:\n\u001B[1;32m   1568\u001B[0m     float_format \u001B[38;5;241m=\u001B[39m \u001B[38;5;28;01mlambda\u001B[39;00m value: \u001B[38;5;28mself\u001B[39m\u001B[38;5;241m.\u001B[39mfloat_format \u001B[38;5;241m%\u001B[39m value\n\u001B[0;32m-> 1570\u001B[0m formatted_values \u001B[38;5;241m=\u001B[39m \u001B[43mformat_values_with\u001B[49m\u001B[43m(\u001B[49m\u001B[43mfloat_format\u001B[49m\u001B[43m)\u001B[49m\n\u001B[1;32m   1572\u001B[0m \u001B[38;5;28;01mif\u001B[39;00m \u001B[38;5;129;01mnot\u001B[39;00m \u001B[38;5;28mself\u001B[39m\u001B[38;5;241m.\u001B[39mfixed_width:\n\u001B[1;32m   1573\u001B[0m     \u001B[38;5;28;01mreturn\u001B[39;00m formatted_values\n",
      "File \u001B[0;32m~/spacebear/lib/python3.8/site-packages/pandas/io/formats/format.py:1550\u001B[0m, in \u001B[0;36mFloatArrayFormatter.get_result_as_array.<locals>.format_values_with\u001B[0;34m(float_format)\u001B[0m\n\u001B[1;32m   1548\u001B[0m         result \u001B[38;5;241m=\u001B[39m _trim_zeros_complex(values, \u001B[38;5;28mself\u001B[39m\u001B[38;5;241m.\u001B[39mdecimal)\n\u001B[1;32m   1549\u001B[0m     \u001B[38;5;28;01melse\u001B[39;00m:\n\u001B[0;32m-> 1550\u001B[0m         result \u001B[38;5;241m=\u001B[39m \u001B[43m_trim_zeros_float\u001B[49m\u001B[43m(\u001B[49m\u001B[43mvalues\u001B[49m\u001B[43m,\u001B[49m\u001B[43m \u001B[49m\u001B[38;5;28;43mself\u001B[39;49m\u001B[38;5;241;43m.\u001B[39;49m\u001B[43mdecimal\u001B[49m\u001B[43m)\u001B[49m\n\u001B[1;32m   1551\u001B[0m     \u001B[38;5;28;01mreturn\u001B[39;00m np\u001B[38;5;241m.\u001B[39masarray(result, dtype\u001B[38;5;241m=\u001B[39m\u001B[38;5;124m\"\u001B[39m\u001B[38;5;124mobject\u001B[39m\u001B[38;5;124m\"\u001B[39m)\n\u001B[1;32m   1553\u001B[0m \u001B[38;5;28;01mreturn\u001B[39;00m values\n",
      "File \u001B[0;32m~/spacebear/lib/python3.8/site-packages/pandas/io/formats/format.py:2001\u001B[0m, in \u001B[0;36m_trim_zeros_float\u001B[0;34m(str_floats, decimal)\u001B[0m\n\u001B[1;32m   1998\u001B[0m     numbers \u001B[38;5;241m=\u001B[39m [x \u001B[38;5;28;01mfor\u001B[39;00m x \u001B[38;5;129;01min\u001B[39;00m values \u001B[38;5;28;01mif\u001B[39;00m is_number_with_decimal(x)]\n\u001B[1;32m   1999\u001B[0m     \u001B[38;5;28;01mreturn\u001B[39;00m \u001B[38;5;28mlen\u001B[39m(numbers) \u001B[38;5;241m>\u001B[39m \u001B[38;5;241m0\u001B[39m \u001B[38;5;129;01mand\u001B[39;00m \u001B[38;5;28mall\u001B[39m(x\u001B[38;5;241m.\u001B[39mendswith(\u001B[38;5;124m\"\u001B[39m\u001B[38;5;124m0\u001B[39m\u001B[38;5;124m\"\u001B[39m) \u001B[38;5;28;01mfor\u001B[39;00m x \u001B[38;5;129;01min\u001B[39;00m numbers)\n\u001B[0;32m-> 2001\u001B[0m \u001B[38;5;28;01mwhile\u001B[39;00m \u001B[43mshould_trim\u001B[49m\u001B[43m(\u001B[49m\u001B[43mtrimmed\u001B[49m\u001B[43m)\u001B[49m:\n\u001B[1;32m   2002\u001B[0m     trimmed \u001B[38;5;241m=\u001B[39m [x[:\u001B[38;5;241m-\u001B[39m\u001B[38;5;241m1\u001B[39m] \u001B[38;5;28;01mif\u001B[39;00m is_number_with_decimal(x) \u001B[38;5;28;01melse\u001B[39;00m x \u001B[38;5;28;01mfor\u001B[39;00m x \u001B[38;5;129;01min\u001B[39;00m trimmed]\n\u001B[1;32m   2004\u001B[0m \u001B[38;5;66;03m# leave one 0 after the decimal points if need be.\u001B[39;00m\n",
      "File \u001B[0;32m~/spacebear/lib/python3.8/site-packages/pandas/io/formats/format.py:1998\u001B[0m, in \u001B[0;36m_trim_zeros_float.<locals>.should_trim\u001B[0;34m(values)\u001B[0m\n\u001B[1;32m   1990\u001B[0m \u001B[38;5;28;01mdef\u001B[39;00m \u001B[38;5;21mshould_trim\u001B[39m(values: np\u001B[38;5;241m.\u001B[39mndarray \u001B[38;5;241m|\u001B[39m \u001B[38;5;28mlist\u001B[39m[\u001B[38;5;28mstr\u001B[39m]) \u001B[38;5;241m-\u001B[39m\u001B[38;5;241m>\u001B[39m \u001B[38;5;28mbool\u001B[39m:\n\u001B[1;32m   1991\u001B[0m     \u001B[38;5;124;03m\"\"\"\u001B[39;00m\n\u001B[1;32m   1992\u001B[0m \u001B[38;5;124;03m    Determine if an array of strings should be trimmed.\u001B[39;00m\n\u001B[1;32m   1993\u001B[0m \n\u001B[0;32m   (...)\u001B[0m\n\u001B[1;32m   1996\u001B[0m \u001B[38;5;124;03m    returns False.\u001B[39;00m\n\u001B[1;32m   1997\u001B[0m \u001B[38;5;124;03m    \"\"\"\u001B[39;00m\n\u001B[0;32m-> 1998\u001B[0m     numbers \u001B[38;5;241m=\u001B[39m [x \u001B[38;5;28;01mfor\u001B[39;00m x \u001B[38;5;129;01min\u001B[39;00m values \u001B[38;5;28;01mif\u001B[39;00m is_number_with_decimal(x)]\n\u001B[1;32m   1999\u001B[0m     \u001B[38;5;28;01mreturn\u001B[39;00m \u001B[38;5;28mlen\u001B[39m(numbers) \u001B[38;5;241m>\u001B[39m \u001B[38;5;241m0\u001B[39m \u001B[38;5;129;01mand\u001B[39;00m \u001B[38;5;28mall\u001B[39m(x\u001B[38;5;241m.\u001B[39mendswith(\u001B[38;5;124m\"\u001B[39m\u001B[38;5;124m0\u001B[39m\u001B[38;5;124m\"\u001B[39m) \u001B[38;5;28;01mfor\u001B[39;00m x \u001B[38;5;129;01min\u001B[39;00m numbers)\n",
      "File \u001B[0;32m~/spacebear/lib/python3.8/site-packages/pandas/io/formats/format.py:1998\u001B[0m, in \u001B[0;36m<listcomp>\u001B[0;34m(.0)\u001B[0m\n\u001B[1;32m   1990\u001B[0m \u001B[38;5;28;01mdef\u001B[39;00m \u001B[38;5;21mshould_trim\u001B[39m(values: np\u001B[38;5;241m.\u001B[39mndarray \u001B[38;5;241m|\u001B[39m \u001B[38;5;28mlist\u001B[39m[\u001B[38;5;28mstr\u001B[39m]) \u001B[38;5;241m-\u001B[39m\u001B[38;5;241m>\u001B[39m \u001B[38;5;28mbool\u001B[39m:\n\u001B[1;32m   1991\u001B[0m     \u001B[38;5;124;03m\"\"\"\u001B[39;00m\n\u001B[1;32m   1992\u001B[0m \u001B[38;5;124;03m    Determine if an array of strings should be trimmed.\u001B[39;00m\n\u001B[1;32m   1993\u001B[0m \n\u001B[0;32m   (...)\u001B[0m\n\u001B[1;32m   1996\u001B[0m \u001B[38;5;124;03m    returns False.\u001B[39;00m\n\u001B[1;32m   1997\u001B[0m \u001B[38;5;124;03m    \"\"\"\u001B[39;00m\n\u001B[0;32m-> 1998\u001B[0m     numbers \u001B[38;5;241m=\u001B[39m [x \u001B[38;5;28;01mfor\u001B[39;00m x \u001B[38;5;129;01min\u001B[39;00m values \u001B[38;5;28;01mif\u001B[39;00m \u001B[43mis_number_with_decimal\u001B[49m\u001B[43m(\u001B[49m\u001B[43mx\u001B[49m\u001B[43m)\u001B[49m]\n\u001B[1;32m   1999\u001B[0m     \u001B[38;5;28;01mreturn\u001B[39;00m \u001B[38;5;28mlen\u001B[39m(numbers) \u001B[38;5;241m>\u001B[39m \u001B[38;5;241m0\u001B[39m \u001B[38;5;129;01mand\u001B[39;00m \u001B[38;5;28mall\u001B[39m(x\u001B[38;5;241m.\u001B[39mendswith(\u001B[38;5;124m\"\u001B[39m\u001B[38;5;124m0\u001B[39m\u001B[38;5;124m\"\u001B[39m) \u001B[38;5;28;01mfor\u001B[39;00m x \u001B[38;5;129;01min\u001B[39;00m numbers)\n",
      "File \u001B[0;32m~/spacebear/lib/python3.8/site-packages/pandas/io/formats/format.py:1988\u001B[0m, in \u001B[0;36m_trim_zeros_float.<locals>.is_number_with_decimal\u001B[0;34m(x)\u001B[0m\n\u001B[1;32m   1987\u001B[0m \u001B[38;5;28;01mdef\u001B[39;00m \u001B[38;5;21mis_number_with_decimal\u001B[39m(x):\n\u001B[0;32m-> 1988\u001B[0m     \u001B[38;5;28;01mreturn\u001B[39;00m \u001B[43mre\u001B[49m\u001B[38;5;241;43m.\u001B[39;49m\u001B[43mmatch\u001B[49m\u001B[43m(\u001B[49m\u001B[43mnumber_regex\u001B[49m\u001B[43m,\u001B[49m\u001B[43m \u001B[49m\u001B[43mx\u001B[49m\u001B[43m)\u001B[49m \u001B[38;5;129;01mis\u001B[39;00m \u001B[38;5;129;01mnot\u001B[39;00m \u001B[38;5;28;01mNone\u001B[39;00m\n",
      "File \u001B[0;32m/Library/Frameworks/Python.framework/Versions/3.8/lib/python3.8/re.py:191\u001B[0m, in \u001B[0;36mmatch\u001B[0;34m(pattern, string, flags)\u001B[0m\n\u001B[1;32m    188\u001B[0m \u001B[38;5;28;01mdef\u001B[39;00m \u001B[38;5;21mmatch\u001B[39m(pattern, string, flags\u001B[38;5;241m=\u001B[39m\u001B[38;5;241m0\u001B[39m):\n\u001B[1;32m    189\u001B[0m     \u001B[38;5;124;03m\"\"\"Try to apply the pattern at the start of the string, returning\u001B[39;00m\n\u001B[1;32m    190\u001B[0m \u001B[38;5;124;03m    a Match object, or None if no match was found.\"\"\"\u001B[39;00m\n\u001B[0;32m--> 191\u001B[0m     \u001B[38;5;28;01mreturn\u001B[39;00m \u001B[43m_compile\u001B[49m\u001B[43m(\u001B[49m\u001B[43mpattern\u001B[49m\u001B[43m,\u001B[49m\u001B[43m \u001B[49m\u001B[43mflags\u001B[49m\u001B[43m)\u001B[49m\u001B[38;5;241m.\u001B[39mmatch(string)\n",
      "File \u001B[0;32m/Library/Frameworks/Python.framework/Versions/3.8/lib/python3.8/re.py:294\u001B[0m, in \u001B[0;36m_compile\u001B[0;34m(pattern, flags)\u001B[0m\n\u001B[1;32m    292\u001B[0m     flags \u001B[38;5;241m=\u001B[39m flags\u001B[38;5;241m.\u001B[39mvalue\n\u001B[1;32m    293\u001B[0m \u001B[38;5;28;01mtry\u001B[39;00m:\n\u001B[0;32m--> 294\u001B[0m     \u001B[38;5;28;01mreturn\u001B[39;00m \u001B[43m_cache\u001B[49m\u001B[43m[\u001B[49m\u001B[38;5;28;43mtype\u001B[39;49m\u001B[43m(\u001B[49m\u001B[43mpattern\u001B[49m\u001B[43m)\u001B[49m\u001B[43m,\u001B[49m\u001B[43m \u001B[49m\u001B[43mpattern\u001B[49m\u001B[43m,\u001B[49m\u001B[43m \u001B[49m\u001B[43mflags\u001B[49m\u001B[43m]\u001B[49m\n\u001B[1;32m    295\u001B[0m \u001B[38;5;28;01mexcept\u001B[39;00m \u001B[38;5;167;01mKeyError\u001B[39;00m:\n\u001B[1;32m    296\u001B[0m     \u001B[38;5;28;01mpass\u001B[39;00m\n",
      "\u001B[0;31mKeyboardInterrupt\u001B[0m: "
     ]
    }
   ],
   "source": [
    "for i in tqdm(range(40)):\n",
    "    selected_df = embeddings_df.iloc[i * chunk_size : (i + 1) * chunk_size]\n",
    "    selected_df.to_html(f\"chunk_{i}.html\")"
   ],
   "metadata": {
    "collapsed": false,
    "pycharm": {
     "name": "#%%\n"
    }
   }
  },
  {
   "cell_type": "code",
   "execution_count": 44,
   "outputs": [],
   "source": [
    "chunk1 = pd.read_parquet('../assets/embedds_chunks/chunk_0.parquet')"
   ],
   "metadata": {
    "collapsed": false,
    "pycharm": {
     "name": "#%%\n"
    }
   }
  },
  {
   "cell_type": "code",
   "execution_count": 48,
   "outputs": [],
   "source": [
    "chunk1.to_csv('chunk_1.csv')"
   ],
   "metadata": {
    "collapsed": false,
    "pycharm": {
     "name": "#%%\n"
    }
   }
  },
  {
   "cell_type": "code",
   "execution_count": 49,
   "outputs": [],
   "source": [
    "chunk1.to_html('chunk_1.html')"
   ],
   "metadata": {
    "collapsed": false,
    "pycharm": {
     "name": "#%%\n"
    }
   }
  },
  {
   "cell_type": "code",
   "execution_count": null,
   "outputs": [],
   "source": [
    "requests.get(\"https://storage.yandexcloud.net/spacebear/chunk_1.csv\").content"
   ],
   "metadata": {
    "collapsed": false,
    "pycharm": {
     "name": "#%%\n",
     "is_executing": true
    }
   }
  },
  {
   "cell_type": "code",
   "execution_count": 3,
   "outputs": [],
   "source": [
    "df = pd.read_html(requests.get(\"https://storage.yandexcloud.net/spacebear/chunk_1.html\").content, encoding='utf-8')"
   ],
   "metadata": {
    "collapsed": false,
    "pycharm": {
     "name": "#%%\n"
    }
   }
  },
  {
   "cell_type": "code",
   "execution_count": 6,
   "outputs": [
    {
     "data": {
      "text/plain": "          Unnamed: 0         0         1         2         3         4  \\\n0                  ,  0.165771 -0.517288  0.419655 -0.051957 -0.087263   \n1                  .  0.383446  0.011442  0.860179  0.129129 -0.266771   \n2                  и -0.010855 -0.695681  0.137943  0.078002 -0.112360   \n3                  в  0.072291 -0.373457  0.123495  0.219691 -0.415449   \n4               </s>  0.804123 -0.131928  1.406710  0.330419 -0.397396   \n...              ...       ...       ...       ...       ...       ...   \n49995       растущей -0.075705 -0.043925 -0.095930  0.006661  0.003744   \n49996         декрет -0.063870 -0.009739  0.098091 -0.119856 -0.130095   \n49997        Создана -0.005917  0.149098  0.018228  0.085137 -0.087482   \n49998           CMOS  0.356326 -0.199862  0.113037  0.415710  0.150127   \n49999  предложенного -0.049588 -0.017695 -0.015603  0.046897 -0.037456   \n\n              5         6         7         8  ...        40        41  \\\n0     -0.021959  0.089717  0.167934 -0.119870  ... -0.009044 -0.003489   \n1     -0.042965  0.268558  0.321658 -0.243419  ...  0.044906  0.143004   \n2      0.173395  0.444733  0.114993  0.025454  ... -0.142463 -0.062530   \n3      0.054333 -0.016865  0.366148 -0.209039  ... -0.066749  0.003132   \n4     -0.131128  0.353531  0.324826 -0.467777  ...  0.156702  0.000512   \n...         ...       ...       ...       ...  ...       ...       ...   \n49995 -0.012964  0.102350  0.037024  0.047819  ... -0.068315  0.010412   \n49996  0.009319 -0.035605  0.054143 -0.225496  ... -0.153094  0.009577   \n49997  0.042693  0.028121  0.019666  0.076894  ...  0.032102 -0.016018   \n49998 -0.371494 -0.020605 -0.154567  0.041291  ...  0.076466 -0.035769   \n49999 -0.008064  0.005858 -0.050486 -0.019740  ... -0.005761  0.036181   \n\n             42        43        44        45        46        47        48  \\\n0      0.187495 -0.144960 -0.020137  0.395344 -0.233079  0.025705 -0.408518   \n1      0.122937 -0.475062  0.100879  0.235484 -0.244221 -0.004340 -0.451731   \n2      0.015674 -0.106922 -0.168451  0.215671 -0.326548  0.115889 -0.438935   \n3      0.224285 -0.298141 -0.052664  0.423817 -0.368453 -0.214593 -0.278668   \n4      0.320597 -1.087240 -0.610243  0.274437 -0.429223  0.089688 -0.982359   \n...         ...       ...       ...       ...       ...       ...       ...   \n49995 -0.032473  0.131673  0.043796  0.076792  0.002537  0.018638 -0.028279   \n49996 -0.040595  0.172288 -0.048554  0.087732  0.041121  0.001047 -0.022923   \n49997  0.037235  0.043960  0.075374  0.116087 -0.016759 -0.056523 -0.074507   \n49998  0.000955  0.317713 -0.149936  0.065129 -0.016162 -0.124973  0.073046   \n49999 -0.003973  0.068619  0.026409  0.038916 -0.016954  0.012245 -0.015199   \n\n             49  \n0     -0.224592  \n1      0.027196  \n2     -0.157844  \n3      0.242669  \n4      0.325405  \n...         ...  \n49995  0.114824  \n49996  0.015243  \n49997  0.174443  \n49998 -0.018443  \n49999  0.025744  \n\n[50000 rows x 51 columns]",
      "text/html": "<div>\n<style scoped>\n    .dataframe tbody tr th:only-of-type {\n        vertical-align: middle;\n    }\n\n    .dataframe tbody tr th {\n        vertical-align: top;\n    }\n\n    .dataframe thead th {\n        text-align: right;\n    }\n</style>\n<table border=\"1\" class=\"dataframe\">\n  <thead>\n    <tr style=\"text-align: right;\">\n      <th></th>\n      <th>Unnamed: 0</th>\n      <th>0</th>\n      <th>1</th>\n      <th>2</th>\n      <th>3</th>\n      <th>4</th>\n      <th>5</th>\n      <th>6</th>\n      <th>7</th>\n      <th>8</th>\n      <th>...</th>\n      <th>40</th>\n      <th>41</th>\n      <th>42</th>\n      <th>43</th>\n      <th>44</th>\n      <th>45</th>\n      <th>46</th>\n      <th>47</th>\n      <th>48</th>\n      <th>49</th>\n    </tr>\n  </thead>\n  <tbody>\n    <tr>\n      <th>0</th>\n      <td>,</td>\n      <td>0.165771</td>\n      <td>-0.517288</td>\n      <td>0.419655</td>\n      <td>-0.051957</td>\n      <td>-0.087263</td>\n      <td>-0.021959</td>\n      <td>0.089717</td>\n      <td>0.167934</td>\n      <td>-0.119870</td>\n      <td>...</td>\n      <td>-0.009044</td>\n      <td>-0.003489</td>\n      <td>0.187495</td>\n      <td>-0.144960</td>\n      <td>-0.020137</td>\n      <td>0.395344</td>\n      <td>-0.233079</td>\n      <td>0.025705</td>\n      <td>-0.408518</td>\n      <td>-0.224592</td>\n    </tr>\n    <tr>\n      <th>1</th>\n      <td>.</td>\n      <td>0.383446</td>\n      <td>0.011442</td>\n      <td>0.860179</td>\n      <td>0.129129</td>\n      <td>-0.266771</td>\n      <td>-0.042965</td>\n      <td>0.268558</td>\n      <td>0.321658</td>\n      <td>-0.243419</td>\n      <td>...</td>\n      <td>0.044906</td>\n      <td>0.143004</td>\n      <td>0.122937</td>\n      <td>-0.475062</td>\n      <td>0.100879</td>\n      <td>0.235484</td>\n      <td>-0.244221</td>\n      <td>-0.004340</td>\n      <td>-0.451731</td>\n      <td>0.027196</td>\n    </tr>\n    <tr>\n      <th>2</th>\n      <td>и</td>\n      <td>-0.010855</td>\n      <td>-0.695681</td>\n      <td>0.137943</td>\n      <td>0.078002</td>\n      <td>-0.112360</td>\n      <td>0.173395</td>\n      <td>0.444733</td>\n      <td>0.114993</td>\n      <td>0.025454</td>\n      <td>...</td>\n      <td>-0.142463</td>\n      <td>-0.062530</td>\n      <td>0.015674</td>\n      <td>-0.106922</td>\n      <td>-0.168451</td>\n      <td>0.215671</td>\n      <td>-0.326548</td>\n      <td>0.115889</td>\n      <td>-0.438935</td>\n      <td>-0.157844</td>\n    </tr>\n    <tr>\n      <th>3</th>\n      <td>в</td>\n      <td>0.072291</td>\n      <td>-0.373457</td>\n      <td>0.123495</td>\n      <td>0.219691</td>\n      <td>-0.415449</td>\n      <td>0.054333</td>\n      <td>-0.016865</td>\n      <td>0.366148</td>\n      <td>-0.209039</td>\n      <td>...</td>\n      <td>-0.066749</td>\n      <td>0.003132</td>\n      <td>0.224285</td>\n      <td>-0.298141</td>\n      <td>-0.052664</td>\n      <td>0.423817</td>\n      <td>-0.368453</td>\n      <td>-0.214593</td>\n      <td>-0.278668</td>\n      <td>0.242669</td>\n    </tr>\n    <tr>\n      <th>4</th>\n      <td>&lt;/s&gt;</td>\n      <td>0.804123</td>\n      <td>-0.131928</td>\n      <td>1.406710</td>\n      <td>0.330419</td>\n      <td>-0.397396</td>\n      <td>-0.131128</td>\n      <td>0.353531</td>\n      <td>0.324826</td>\n      <td>-0.467777</td>\n      <td>...</td>\n      <td>0.156702</td>\n      <td>0.000512</td>\n      <td>0.320597</td>\n      <td>-1.087240</td>\n      <td>-0.610243</td>\n      <td>0.274437</td>\n      <td>-0.429223</td>\n      <td>0.089688</td>\n      <td>-0.982359</td>\n      <td>0.325405</td>\n    </tr>\n    <tr>\n      <th>...</th>\n      <td>...</td>\n      <td>...</td>\n      <td>...</td>\n      <td>...</td>\n      <td>...</td>\n      <td>...</td>\n      <td>...</td>\n      <td>...</td>\n      <td>...</td>\n      <td>...</td>\n      <td>...</td>\n      <td>...</td>\n      <td>...</td>\n      <td>...</td>\n      <td>...</td>\n      <td>...</td>\n      <td>...</td>\n      <td>...</td>\n      <td>...</td>\n      <td>...</td>\n      <td>...</td>\n    </tr>\n    <tr>\n      <th>49995</th>\n      <td>растущей</td>\n      <td>-0.075705</td>\n      <td>-0.043925</td>\n      <td>-0.095930</td>\n      <td>0.006661</td>\n      <td>0.003744</td>\n      <td>-0.012964</td>\n      <td>0.102350</td>\n      <td>0.037024</td>\n      <td>0.047819</td>\n      <td>...</td>\n      <td>-0.068315</td>\n      <td>0.010412</td>\n      <td>-0.032473</td>\n      <td>0.131673</td>\n      <td>0.043796</td>\n      <td>0.076792</td>\n      <td>0.002537</td>\n      <td>0.018638</td>\n      <td>-0.028279</td>\n      <td>0.114824</td>\n    </tr>\n    <tr>\n      <th>49996</th>\n      <td>декрет</td>\n      <td>-0.063870</td>\n      <td>-0.009739</td>\n      <td>0.098091</td>\n      <td>-0.119856</td>\n      <td>-0.130095</td>\n      <td>0.009319</td>\n      <td>-0.035605</td>\n      <td>0.054143</td>\n      <td>-0.225496</td>\n      <td>...</td>\n      <td>-0.153094</td>\n      <td>0.009577</td>\n      <td>-0.040595</td>\n      <td>0.172288</td>\n      <td>-0.048554</td>\n      <td>0.087732</td>\n      <td>0.041121</td>\n      <td>0.001047</td>\n      <td>-0.022923</td>\n      <td>0.015243</td>\n    </tr>\n    <tr>\n      <th>49997</th>\n      <td>Создана</td>\n      <td>-0.005917</td>\n      <td>0.149098</td>\n      <td>0.018228</td>\n      <td>0.085137</td>\n      <td>-0.087482</td>\n      <td>0.042693</td>\n      <td>0.028121</td>\n      <td>0.019666</td>\n      <td>0.076894</td>\n      <td>...</td>\n      <td>0.032102</td>\n      <td>-0.016018</td>\n      <td>0.037235</td>\n      <td>0.043960</td>\n      <td>0.075374</td>\n      <td>0.116087</td>\n      <td>-0.016759</td>\n      <td>-0.056523</td>\n      <td>-0.074507</td>\n      <td>0.174443</td>\n    </tr>\n    <tr>\n      <th>49998</th>\n      <td>CMOS</td>\n      <td>0.356326</td>\n      <td>-0.199862</td>\n      <td>0.113037</td>\n      <td>0.415710</td>\n      <td>0.150127</td>\n      <td>-0.371494</td>\n      <td>-0.020605</td>\n      <td>-0.154567</td>\n      <td>0.041291</td>\n      <td>...</td>\n      <td>0.076466</td>\n      <td>-0.035769</td>\n      <td>0.000955</td>\n      <td>0.317713</td>\n      <td>-0.149936</td>\n      <td>0.065129</td>\n      <td>-0.016162</td>\n      <td>-0.124973</td>\n      <td>0.073046</td>\n      <td>-0.018443</td>\n    </tr>\n    <tr>\n      <th>49999</th>\n      <td>предложенного</td>\n      <td>-0.049588</td>\n      <td>-0.017695</td>\n      <td>-0.015603</td>\n      <td>0.046897</td>\n      <td>-0.037456</td>\n      <td>-0.008064</td>\n      <td>0.005858</td>\n      <td>-0.050486</td>\n      <td>-0.019740</td>\n      <td>...</td>\n      <td>-0.005761</td>\n      <td>0.036181</td>\n      <td>-0.003973</td>\n      <td>0.068619</td>\n      <td>0.026409</td>\n      <td>0.038916</td>\n      <td>-0.016954</td>\n      <td>0.012245</td>\n      <td>-0.015199</td>\n      <td>0.025744</td>\n    </tr>\n  </tbody>\n</table>\n<p>50000 rows × 51 columns</p>\n</div>"
     },
     "execution_count": 6,
     "metadata": {},
     "output_type": "execute_result"
    }
   ],
   "source": [
    "df[0]"
   ],
   "metadata": {
    "collapsed": false,
    "pycharm": {
     "name": "#%%\n"
    }
   }
  }
 ],
 "metadata": {
  "kernelspec": {
   "display_name": "Python 3",
   "language": "python",
   "name": "python3"
  },
  "language_info": {
   "codemirror_mode": {
    "name": "ipython",
    "version": 2
   },
   "file_extension": ".py",
   "mimetype": "text/x-python",
   "name": "python",
   "nbconvert_exporter": "python",
   "pygments_lexer": "ipython2",
   "version": "2.7.6"
  }
 },
 "nbformat": 4,
 "nbformat_minor": 0
}