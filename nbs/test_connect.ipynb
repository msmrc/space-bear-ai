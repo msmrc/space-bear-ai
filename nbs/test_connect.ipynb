{
 "cells": [
  {
   "cell_type": "code",
   "execution_count": 1,
   "metadata": {
    "collapsed": true,
    "pycharm": {
     "name": "#%%\n"
    }
   },
   "outputs": [],
   "source": [
    "import requests\n",
    "import string\n",
    "\n",
    "from utils.get_data import get_user, get_project, get_all_projects, get_all_users\n",
    "from utils.metric_utils import intersection_metric, iou_metric\n",
    "from utils.similarity_utils import cosine_similarity\n",
    "from utils.text_utils import embedd_representation, get_user_roles_desc, get_user_text_desc, get_user_skill_desc, get_project_text_desc\n",
    "from utils.search_utils import (\n",
    "    search_similar_projects,\n",
    "    search_specialists_for_project,\n",
    "    search_projects_for_specialist,\n",
    "    search_users_for_user\n",
    ")\n",
    "from tqdm import tqdm\n",
    "import pickle\n",
    "import pandas as pd\n",
    "import numpy as np\n",
    "from scipy.spatial import distance\n",
    "from typing import Dict, Any, List"
   ]
  },
  {
   "cell_type": "code",
   "execution_count": 2,
   "outputs": [],
   "source": [
    "test_parquet = pd.read_parquet('/Users/andrey.krotkikh/Documents/embedds.parquet')"
   ],
   "metadata": {
    "collapsed": false,
    "pycharm": {
     "name": "#%%\n"
    }
   }
  },
  {
   "cell_type": "code",
   "execution_count": 8,
   "outputs": [],
   "source": [
    "request_all_users = requests.get(\"https://space-bear-api.herokuapp.com/api/users/get-all-users\")\n",
    "all_users_dict = request_all_users.json()"
   ],
   "metadata": {
    "collapsed": false,
    "pycharm": {
     "name": "#%%\n"
    }
   }
  },
  {
   "cell_type": "code",
   "execution_count": 12,
   "outputs": [
    {
     "data": {
      "text/plain": "[{'_id': '636178e6a668d3e6cd82d39c',\n  'userId': '635d8e808acf6112cb7d0cd0',\n  'isEmailVerified': False,\n  'isProfileCreated': False,\n  'isFormCreated': False,\n  'isPublished': False,\n  'isDraft': False,\n  'viewCounter': 0,\n  'firstName': 'Михаил',\n  'secondName': 'Марцинюк',\n  'lastName': 'Сергеевич',\n  'birthDate': '1998-01-22',\n  'country': 'Россия',\n  'city': 'Ростов-на-Дону',\n  'citizenship': 'Российское',\n  'gender': 'Мужской',\n  'skillInformation': [{'category': 'Teamlead',\n    'skills': ['Excel', 'CustDev', 'Управление командой'],\n    'experience': 'senior',\n    '_id': '636178e6a668d3e6cd82d39d'},\n   {'category': 'Frontend',\n    'skills': ['Angular 2+'],\n    'experience': 'senior',\n    '_id': '636178e6a668d3e6cd82d39e'}],\n  'interestedTags': ['fintech',\n   'foodtech',\n   'biotech',\n   'робототехника',\n   'программное обеспечение',\n   'продажи'],\n  'experience': '100',\n  'aboutDescription': 'Я директор IT-компании Dragons Code, мне 24 года, люблю робототехнику и искусственный интеллект. Более 8 лет нахожусь в IT сфере, активно программирую и развиваюсь в продажах. Интересно помочь с разработкой проекта в биотехнологической сфере или в сфере финтеха. \\n\\n',\n  'createdAt': '2022-11-01T19:52:06.022Z',\n  'updatedAt': '2022-11-01T19:52:06.022Z',\n  '__v': 0},\n {'_id': '6362832611ebb3047851dd45',\n  'userId': '6362827a11ebb3047851dd41',\n  'isEmailVerified': False,\n  'isProfileCreated': True,\n  'isFormCreated': True,\n  'isPublished': True,\n  'isDraft': False,\n  'viewCounter': 0,\n  'firstName': 'Рик',\n  'secondName': 'Санчес',\n  'lastName': '',\n  'birthDate': '1950-05-10',\n  'country': 'США',\n  'city': 'Нью-Джерси',\n  'citizenship': 'Американское',\n  'gender': 'Мужской',\n  'skillInformation': [{'category': 'Teamlead',\n    'skills': ['Управление командой'],\n    'experience': 'senior',\n    '_id': '6362832611ebb3047851dd46'}],\n  'interestedTags': ['робототехника', 'ai'],\n  'aboutDescription': 'Я межгалактический ученный, мне нравится искусственный интеллект и робот. Сейчас работаю над одной штукой, чтобы она приносила масло.\\n\\nИщу разработчиков на Python, для программирования штуки ',\n  'createdAt': '2022-11-02T14:48:06.559Z',\n  'updatedAt': '2022-11-02T14:48:06.559Z',\n  '__v': 0}]"
     },
     "execution_count": 12,
     "metadata": {},
     "output_type": "execute_result"
    }
   ],
   "source": [
    "all_users_dict"
   ],
   "metadata": {
    "collapsed": false,
    "pycharm": {
     "name": "#%%\n"
    }
   }
  },
  {
   "cell_type": "code",
   "execution_count": 6,
   "outputs": [],
   "source": [
    "request_all_projects = requests.get(\"https://space-bear-api.herokuapp.com/api/projects/ml-get-all\")\n",
    "all_projects_dict = request_all_projects.json()"
   ],
   "metadata": {
    "collapsed": false,
    "pycharm": {
     "name": "#%%\n"
    }
   }
  },
  {
   "cell_type": "code",
   "execution_count": 7,
   "outputs": [
    {
     "data": {
      "text/plain": "[{'_id': '6362ddaae685eb7ddd6dd794',\n  'projectOwnerId': '636178e6a668d3e6cd82d39c',\n  'type': 'innovator',\n  'projectName': 'Space Bear',\n  'projectDescription': 'Проект для конкурса \"Лидеры Цифровой Трансформации 2022\", разрабатывается командой Dragons. В проекте используется очень много ИИ, для рекомендации идеальных единомышленников, подбора проектов и поиска новых знакомств. \\n\\nВ проект требуется маркетолог для привлечения пользователей.',\n  'isPublished': True,\n  'projectTags': ['искусственный интеллект',\n   'знакомства и общение',\n   'стартапы'],\n  'existTeam': [{'fullProfileId': '636178e6a668d3e6cd82d39c',\n    'category': 'Teamlead',\n    'skills': ['Управление командой'],\n    '_id': '6362ddaae685eb7ddd6dd795'}],\n  'lookingForTeam': [{'category': 'Frontend',\n    'skills': ['Angular 2+', 'Node js', 'JavaScript', 'TypeScript'],\n    '_id': '6362ddaae685eb7ddd6dd796'},\n   {'category': 'Backend',\n    'skills': ['Nest js', 'Node js', 'JavaScript', 'TypeScript'],\n    '_id': '6362ddaae685eb7ddd6dd797'}],\n  'isInnovated': False,\n  'innovator': {'projectLink': 'https://space-bear-web.herokuapp.com/',\n   'supportExperience': [],\n   '_id': '6362ddaae685eb7ddd6dd798'},\n  'views': 2,\n  'incomingTeam': [],\n  'outgoingTeam': [],\n  'projectCostByAdmin': [],\n  'rate': [],\n  'comments': [],\n  'createdAt': '2022-11-02T21:14:18.576Z',\n  'updatedAt': '2022-11-02T21:16:00.153Z',\n  '__v': 0},\n {'_id': '6362def7e685eb7ddd6dd7ce',\n  'projectOwnerId': '636178e6a668d3e6cd82d39c',\n  'type': 'innovator',\n  'projectName': 'Xeomate',\n  'projectDescription': 'Проект для поиска единомышленников, новых знакомств, менторов и помощи в relocate. Сервисом пользуются уже в 5 странах, в данный момент находимся в поисках маркетолога для привлечения новых пользователей. \\n\\n',\n  'isPublished': True,\n  'projectTags': ['стартапы',\n   'знакомства и общение',\n   'программное обеспечение',\n   'искусственный интеллект'],\n  'existTeam': [{'fullProfileId': '636178e6a668d3e6cd82d39c',\n    'category': 'Teamlead',\n    'skills': ['Excel', 'CustDev', 'Управление командой'],\n    '_id': '6362def7e685eb7ddd6dd7cf'}],\n  'lookingForTeam': [{'category': 'Product Owner',\n    'skills': ['Excel', 'CustDev'],\n    '_id': '6362def7e685eb7ddd6dd7d0'},\n   {'category': 'Marketing',\n    'skills': ['SEO', 'Context', 'Target'],\n    '_id': '6362def7e685eb7ddd6dd7d1'}],\n  'isInnovated': False,\n  'innovator': {'projectLink': 'https://app.xeomate.com',\n   'supportExperience': [],\n   '_id': '6362def7e685eb7ddd6dd7d2'},\n  'views': 1,\n  'incomingTeam': [],\n  'outgoingTeam': [],\n  'projectCostByAdmin': [],\n  'rate': [],\n  'comments': [],\n  'createdAt': '2022-11-02T21:19:51.366Z',\n  'updatedAt': '2022-11-02T21:19:51.366Z',\n  '__v': 0},\n {'_id': '6362dfe8e685eb7ddd6dd7e7',\n  'projectOwnerId': '636178e6a668d3e6cd82d39c',\n  'type': 'innovator',\n  'projectName': 'KindBotics',\n  'projectDescription': 'Промо-роботы от технологической компании из города Ростов-на-Дону. Команда занимается разработкой дешевых роботов для привлечения внимания посетителей ТЦ / магазинов / кинотеатров, с целью продвижения услуг.\\n\\nПроект достаточно самобытный и выгодно отличается от конкурентов, при цене в 400 000 руб за 1 робота VS 2 500 000 руб у конкурентов.\\n\\nKindBotics ищет робототехников и конструкторов для улучшения качества продукта.',\n  'isPublished': True,\n  'projectTags': ['производство',\n   'машиностроение',\n   'робототехника',\n   'программное обеспечение',\n   'искусственный интеллект',\n   'ai'],\n  'existTeam': [{'fullProfileId': '636178e6a668d3e6cd82d39c',\n    'category': 'Teamlead',\n    'skills': ['Excel', 'CustDev', 'Управление командой'],\n    '_id': '6362dfe8e685eb7ddd6dd7e8'}],\n  'lookingForTeam': [{'category': 'ML',\n    'skills': ['Python'],\n    '_id': '6362dfe8e685eb7ddd6dd7e9'},\n   {'category': 'Frontend',\n    'skills': ['Angular 2+', 'JavaScript', 'TypeScript'],\n    '_id': '6362dfe8e685eb7ddd6dd7ea'}],\n  'isInnovated': False,\n  'innovator': {'projectLink': '',\n   'supportExperience': [],\n   '_id': '6362dfe8e685eb7ddd6dd7eb'},\n  'views': 1,\n  'incomingTeam': [],\n  'outgoingTeam': [],\n  'projectCostByAdmin': [],\n  'rate': [],\n  'comments': [],\n  'createdAt': '2022-11-02T21:23:52.170Z',\n  'updatedAt': '2022-11-02T21:23:52.170Z',\n  '__v': 0}]"
     },
     "execution_count": 7,
     "metadata": {},
     "output_type": "execute_result"
    }
   ],
   "source": [
    "all_projects_dict"
   ],
   "metadata": {
    "collapsed": false,
    "pycharm": {
     "name": "#%%\n"
    }
   }
  },
  {
   "cell_type": "code",
   "execution_count": 5,
   "outputs": [
    {
     "data": {
      "text/plain": "'Проект для конкурса \"Лидеры Цифровой Трансформации 2022\", разрабатывается командой Dragons. В проекте используется очень много ИИ, для рекомендации идеальных единомышленников, подбора проектов и поиска новых знакомств. \\n\\nВ проект требуется маркетолог для привлечения пользователей.'"
     },
     "execution_count": 5,
     "metadata": {},
     "output_type": "execute_result"
    }
   ],
   "source": [
    "get_project_text_desc(\"6362ddaae685eb7ddd6dd794\")"
   ],
   "metadata": {
    "collapsed": false,
    "pycharm": {
     "name": "#%%\n"
    }
   }
  },
  {
   "cell_type": "code",
   "execution_count": 3,
   "outputs": [
    {
     "name": "stderr",
     "output_type": "stream",
     "text": [
      "/Users/andrey.krotkikh/spacebear/lib/python3.8/site-packages/numpy/core/fromnumeric.py:86: VisibleDeprecationWarning: Creating an ndarray from ragged nested sequences (which is a list-or-tuple of lists-or-tuples-or ndarrays with different lengths or shapes) is deprecated. If you meant to do this, you must specify 'dtype=object' when creating the ndarray.\n",
      "  return ufunc.reduce(obj, axis, dtype, out, **passkwargs)\n"
     ]
    },
    {
     "data": {
      "text/plain": "{'636178e6a668d3e6cd82d39c': {'Frontend': 1,\n  'Backend': 0,\n  'semantic': 0.759360927367716},\n '6362832611ebb3047851dd45': {'Frontend': 0,\n  'Backend': 0,\n  'semantic': 0.734008252620697}}"
     },
     "execution_count": 3,
     "metadata": {},
     "output_type": "execute_result"
    }
   ],
   "source": [
    "search_specialists_for_project(\"6362ddaae685eb7ddd6dd794\", test_parquet)"
   ],
   "metadata": {
    "collapsed": false,
    "pycharm": {
     "name": "#%%\n"
    }
   }
  },
  {
   "cell_type": "code",
   "execution_count": 4,
   "outputs": [
    {
     "data": {
      "text/plain": "{'6362def7e685eb7ddd6dd7ce': 0.8435057428563579,\n '6362dfe8e685eb7ddd6dd7e7': 0.7547830859280128}"
     },
     "execution_count": 4,
     "metadata": {},
     "output_type": "execute_result"
    }
   ],
   "source": [
    "search_similar_projects(\"6362ddaae685eb7ddd6dd794\", test_parquet)"
   ],
   "metadata": {
    "collapsed": false,
    "pycharm": {
     "name": "#%%\n"
    }
   }
  },
  {
   "cell_type": "code",
   "execution_count": 10,
   "outputs": [
    {
     "name": "stderr",
     "output_type": "stream",
     "text": [
      "/Users/andrey.krotkikh/spacebear/lib/python3.8/site-packages/numpy/core/fromnumeric.py:86: VisibleDeprecationWarning: Creating an ndarray from ragged nested sequences (which is a list-or-tuple of lists-or-tuples-or ndarrays with different lengths or shapes) is deprecated. If you meant to do this, you must specify 'dtype=object' when creating the ndarray.\n",
      "  return ufunc.reduce(obj, axis, dtype, out, **passkwargs)\n"
     ]
    },
    {
     "data": {
      "text/plain": "{'6362ddaae685eb7ddd6dd794': {'Frontend': 1,\n  'Backend': 0,\n  'semantic': 0.759360927367716},\n '6362def7e685eb7ddd6dd7ce': {'Product Owner': 0,\n  'Marketing': 0,\n  'semantic': 0.8748704681199942},\n '6362dfe8e685eb7ddd6dd7e7': {'ML': 0,\n  'Frontend': 1,\n  'semantic': 0.7969735477427032}}"
     },
     "execution_count": 10,
     "metadata": {},
     "output_type": "execute_result"
    }
   ],
   "source": [
    "search_projects_for_specialist(\"636178e6a668d3e6cd82d39c\", test_parquet)"
   ],
   "metadata": {
    "collapsed": false,
    "pycharm": {
     "name": "#%%\n"
    }
   }
  },
  {
   "cell_type": "code",
   "execution_count": 11,
   "outputs": [
    {
     "data": {
      "text/plain": "{'6362832611ebb3047851dd45': {'Interests': 1, 'Semantic': 0.7476101837173933}}"
     },
     "execution_count": 11,
     "metadata": {},
     "output_type": "execute_result"
    }
   ],
   "source": [
    "search_users_for_user(\"636178e6a668d3e6cd82d39c\", test_parquet)"
   ],
   "metadata": {
    "collapsed": false,
    "pycharm": {
     "name": "#%%\n"
    }
   }
  },
  {
   "cell_type": "code",
   "execution_count": null,
   "outputs": [],
   "source": [],
   "metadata": {
    "collapsed": false,
    "pycharm": {
     "name": "#%%\n"
    }
   }
  },
  {
   "cell_type": "code",
   "execution_count": 24,
   "outputs": [],
   "source": [
    "def innovation_score_project(project_id: str, input_df: pd.DataFrame) -> bool:\n",
    "    desc = get_project(project_id)['projectDescription']\n",
    "\n",
    "    innovative_desc = \"инновации ии искусственный интеллект дополненная виртуальная реальность энергосбережение автоматизация роботы робототехника\" \\\n",
    "                      \"имплантация космос генерализация блокчейн криптовалюта нфт аи децентрализованный децентрализация метавселенная неинвазивный\"\n",
    "\n",
    "    metric = cosine_similarity(embedd_representation(desc, input_df), embedd_representation(innovative_desc, input_df))\n",
    "\n",
    "    return metric > 0.75"
   ],
   "metadata": {
    "collapsed": false,
    "pycharm": {
     "name": "#%%\n"
    }
   }
  },
  {
   "cell_type": "code",
   "execution_count": 25,
   "outputs": [
    {
     "data": {
      "text/plain": "False"
     },
     "execution_count": 25,
     "metadata": {},
     "output_type": "execute_result"
    }
   ],
   "source": [
    "innovation_score_project(\"6362ddaae685eb7ddd6dd794\", test_parquet)"
   ],
   "metadata": {
    "collapsed": false,
    "pycharm": {
     "name": "#%%\n"
    }
   }
  }
 ],
 "metadata": {
  "kernelspec": {
   "display_name": "Python 3",
   "language": "python",
   "name": "python3"
  },
  "language_info": {
   "codemirror_mode": {
    "name": "ipython",
    "version": 2
   },
   "file_extension": ".py",
   "mimetype": "text/x-python",
   "name": "python",
   "nbconvert_exporter": "python",
   "pygments_lexer": "ipython2",
   "version": "2.7.6"
  }
 },
 "nbformat": 4,
 "nbformat_minor": 0
}